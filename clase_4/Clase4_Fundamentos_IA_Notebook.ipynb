{
 "cells": [
  {
   "cell_type": "markdown",
   "id": "c41d592e",
   "metadata": {},
   "source": [
    "# Clase 4 — Fundamentos de IA (Notebook completo)\n",
    "\n",
    "**Descripción:** Notebook detallado y listo para usar en clase. Contiene explicaciones teóricas, ejemplos de código en Python, ejercicios y mini-proyectos prácticos basados en la diapositiva \"Clase 4 - Fundamentos IA\".\n",
    "\n",
    "**Objetivo del notebook:** Proveer material didáctico completo (markdown + código) para que estudiantes entiendan conceptos clave de IA, pensamiento computacional y fundamentos de Python (estructuras de control, funciones y NumPy).\n",
    "\n",
    "---"
   ]
  },
  {
   "cell_type": "markdown",
   "id": "d2fc6ef8",
   "metadata": {},
   "source": [
    "## Contenidos\n",
    "\n",
    "1. Introducción a IA y fundamentos del dato\n",
    "2. Pensamiento computacional y el arte de preguntar\n",
    "3. Introducción a Python — reglas y buenas prácticas\n",
    "4. Estructuras de control (condicionales y bucles)\n",
    "5. Funciones (definición, parámetros y retorno)\n",
    "6. NumPy — arrays y operaciones vectorizadas\n",
    "7. Ejemplos guiados y mini-proyectos (ventas, productos)\n",
    "8. Buenas prácticas para presentar notebooks y exportar\n",
    "9. Ejercicios propuestos\n",
    "\n",
    "---\n"
   ]
  },
  {
   "cell_type": "markdown",
   "id": "21acf819",
   "metadata": {},
   "source": [
    "## Objetivos de aprendizaje\n",
    "\n",
    "- Comprender fundamentos del dato y su importancia en IA.\n",
    "- Aplicar pensamiento computacional para estructurar problemas.\n",
    "- Escribir código Python legible y sin errores comunes (nombres, tipos, validaciones).\n",
    "- Usar estructuras de control para flujos condicionados e iterativos.\n",
    "- Definir y usar funciones reutilizables.\n",
    "- Trabajar con arrays de NumPy para cálculos eficientes.\n",
    "- Implementar mini-programas interactivos (ventas, inventario) y documentarlos en el notebook.\n",
    "\n",
    "---"
   ]
  },
  {
   "cell_type": "markdown",
   "id": "488f7231",
   "metadata": {},
   "source": [
    "## 1. Introducción a IA y fundamentos del dato\n",
    "\n",
    "**Fundamentos del dato:** los datos orientan decisiones, transforman información en conocimiento y deben describirse (origen, estructura, calidad, escala, limitaciones).\n",
    "\n",
    "**Por qué importan en IA:** los modelos y algoritmos aprenden de datos; si los datos están incompletos, sesgados o mal etiquetados, los resultados pueden ser engañosos.\n",
    "\n",
    "**Nota:** antes de modelar siempre responde: ¿Qué problema quiero resolver? ¿Qué datos tengo? ¿Qué limitaciones existen?\n",
    "\n",
    "---"
   ]
  },
  {
   "cell_type": "markdown",
   "id": "34435830",
   "metadata": {},
   "source": [
    "## 2. Pensamiento computacional\n",
    "\n",
    "El pensamiento computacional estructura cómo abordar problemas para que sean solucionables por algoritmos. Pasos típicos:\n",
    "\n",
    "- Descomponer el problema en partes más pequeñas.\n",
    "- Reconocer patrones y relaciones.\n",
    "- Abstraer lo irrelevante y modelar lo esencial.\n",
    "- Diseñar algoritmos paso a paso (pseudocódigo / diagrama de flujo).\n",
    "\n",
    "**El arte de preguntar (en ciencia de datos):** formular preguntas accionables (qué, por qué, cuándo, qué datos y cómo validarlos).\n",
    "\n",
    "---"
   ]
  },
  {
   "cell_type": "markdown",
   "id": "6dd8a595",
   "metadata": {},
   "source": [
    "## 3. Introducción a Python — reglas y buenas prácticas (nombres de variables)\n",
    "\n",
    "**Reglas principales para nombrar variables en Python:**\n",
    "\n",
    "- No usar palabras reservadas (ej.: `class`, `def`, `for`).\n",
    "- No comenzar con números.\n",
    "- No usar espacios ni guiones medios `-` (usar `_` en su lugar — estilo `snake_case`).\n",
    "- Los nombres distinguen mayúsculas y minúsculas (`nombre` != `Nombre`).\n",
    "- Usar nombres descriptivos y legibles.\n",
    "\n",
    "A continuación hay un ejemplo simple que muestra errores de sintaxis *sin romper* el notebook: se usan cadenas ejecutadas por `exec()` y se capturan `SyntaxError`.\n"
   ]
  },
  {
   "cell_type": "code",
   "execution_count": 3,
   "id": "8f3a17f4",
   "metadata": {},
   "outputs": [
    {
     "name": "stdout",
     "output_type": "stream",
     "text": [
      "Error 1 (palabra reservada): invalid syntax (<string>, line 1)\n",
      "Error 2 (empieza con número): invalid decimal literal (<string>, line 1)\n",
      "Error 3 (guion medio en el nombre): cannot assign to expression here. Maybe you meant '==' instead of '='? (<string>, line 1)\n",
      "\n",
      "Ejemplos correctos:\n",
      "nombre -> Luis\n",
      "nombre_completo -> Luis Perez\n",
      "NombreCompleto -> Luis Perez\n"
     ]
    }
   ],
   "source": [
    "# Demostración sencilla de nombres inválidos usando exec() y try/except\n",
    "\n",
    "try:\n",
    "    exec(\"class = 'Python'\")\n",
    "except SyntaxError as e:\n",
    "    print('Error 1 (palabra reservada):', e)\n",
    "\n",
    "try:\n",
    "    exec(\"2nombre = 'Luis'\")\n",
    "except SyntaxError as e:\n",
    "    print('Error 2 (empieza con número):', e)\n",
    "\n",
    "try:\n",
    "    exec(\"nombre-completo = 'Luis Perez'\")\n",
    "except SyntaxError as e:\n",
    "    print('Error 3 (guion medio en el nombre):', e)\n",
    "\n",
    "# Ejemplos correctos\n",
    "nombre = 'Luis'\n",
    "nombre_completo = 'Luis Perez'\n",
    "NombreCompleto = 'Luis Perez'  # CamelCase (típico en clases)\n",
    "\n",
    "print('\\nEjemplos correctos:')\n",
    "print('nombre ->', nombre)\n",
    "print('nombre_completo ->', nombre_completo)\n",
    "print('NombreCompleto ->', NombreCompleto)\n"
   ]
  },
  {
   "cell_type": "markdown",
   "id": "b0236ad1",
   "metadata": {},
   "source": [
    "## 4. Estructuras de control\n",
    "\n",
    "**Condicionales (`if`, `elif`, `else`)**: permiten ejecutar código según condiciones.\n",
    "\n",
    "En Python, los condicionales permiten **ejecutar diferentes bloques de código** dependiendo de si una condición es verdadera (`True`) o falsa (`False`).\n",
    "\n",
    "La estructura básica es:\n",
    "\n",
    "```python\n",
    "if condición_1:\n",
    "    # Código si condición_1 es verdadera\n",
    "elif condición_2:\n",
    "    # Código si condición_2 es verdadera\n",
    "elif condición_3:\n",
    "    # Código si condición_3 es verdadera\n",
    "else:\n",
    "    # Código si ninguna condición anterior es verdadera\n",
    "\n",
    "\n",
    "Ejemplo clásico: comprobar mayoría de edad.\n"
   ]
  },
  {
   "cell_type": "code",
   "execution_count": 4,
   "id": "3a745a18",
   "metadata": {},
   "outputs": [
    {
     "name": "stdout",
     "output_type": "stream",
     "text": [
      "\n",
      "Hola alex, tienes 27 años. Eres considerado: Adulto/a\n"
     ]
    }
   ],
   "source": [
    "# Ejemplo: calcular edad y verificar mayoría de edad (versión segura con validaciones)\n",
    "from datetime import datetime\n",
    "\n",
    "nombre = input('¿Cuál es tu nombre? ')\n",
    "\n",
    "# Validamos la entrada del año de nacimiento con un bucle while\n",
    "while True:\n",
    "    nacimiento_str = input('¿En qué año naciste? (ej. 1990) ')\n",
    "    try:\n",
    "        nacimiento = int(nacimiento_str)   # Intentamos convertir a número entero\n",
    "        break                              # Si no da error, salimos del while\n",
    "    except ValueError:\n",
    "        print('Por favor ingresa un año válido (números solamente).')\n",
    "\n",
    "# Calculamos la edad\n",
    "anio_actual = datetime.now().year\n",
    "edad = anio_actual - nacimiento\n",
    "\n",
    "# Usamos condicionales if/elif/else para categorizar\n",
    "if edad < 12:\n",
    "    categoria = \"Niño/a\"\n",
    "elif edad < 18:\n",
    "    categoria = \"Adolescente\"\n",
    "elif edad < 60:\n",
    "    categoria = \"Adulto/a\"\n",
    "else:\n",
    "    categoria = \"Adulto/a mayor\"\n",
    "\n",
    "# Mostramos resultado\n",
    "print(f\"\\nHola {nombre}, tienes {edad} años. Eres considerado: {categoria}\")\n"
   ]
  },
  {
   "cell_type": "code",
   "execution_count": 23,
   "id": "b97a6011",
   "metadata": {},
   "outputs": [
    {
     "ename": "ValueError",
     "evalue": "invalid literal for int() with base 10: 'hola'",
     "output_type": "error",
     "traceback": [
      "\u001b[31m---------------------------------------------------------------------------\u001b[39m",
      "\u001b[31mValueError\u001b[39m                                Traceback (most recent call last)",
      "\u001b[36mCell\u001b[39m\u001b[36m \u001b[39m\u001b[32mIn[23]\u001b[39m\u001b[32m, line 1\u001b[39m\n\u001b[32m----> \u001b[39m\u001b[32m1\u001b[39m edad = \u001b[38;5;28;43mint\u001b[39;49m\u001b[43m(\u001b[49m\u001b[38;5;28;43minput\u001b[39;49m\u001b[43m(\u001b[49m\u001b[33;43m\"\u001b[39;49m\u001b[33;43mCual es tu edad?\u001b[39;49m\u001b[33;43m\"\u001b[39;49m\u001b[43m)\u001b[49m\u001b[43m)\u001b[49m\n\u001b[32m      2\u001b[39m nombre = \u001b[38;5;28mstr\u001b[39m(\u001b[38;5;28minput\u001b[39m(\u001b[33m\"\u001b[39m\u001b[33mdame tu nombre\u001b[39m\u001b[33m\"\u001b[39m))\n\u001b[32m      4\u001b[39m categoria = \u001b[33m\"\u001b[39m\u001b[33mNinguna\u001b[39m\u001b[33m\"\u001b[39m\n",
      "\u001b[31mValueError\u001b[39m: invalid literal for int() with base 10: 'hola'"
     ]
    }
   ],
   "source": [
    "edad = int(input(\"Cual es tu edad?\"))\n",
    "nombre = str(input(\"dame tu nombre\"))\n",
    "\n",
    "categoria = \"Ninguna\"\n",
    "if edad < 12 and nombre == \"maria\":\n",
    "    categoria = \"Niño/a\"\n",
    "else:\n",
    "    categoria = \"Ninguna\"\n",
    "\n",
    "# Mostramos resultado\n",
    "print(f\"\\nHola, tienes {edad} años. Eres considerado: {categoria}\")"
   ]
  },
  {
   "cell_type": "code",
   "execution_count": null,
   "id": "94715de9",
   "metadata": {},
   "outputs": [
    {
     "ename": "SyntaxError",
     "evalue": "expected ':' (2982639364.py, line 5)",
     "output_type": "error",
     "traceback": [
      "  \u001b[36mCell\u001b[39m\u001b[36m \u001b[39m\u001b[32mIn[14]\u001b[39m\u001b[32m, line 5\u001b[39m\n\u001b[31m    \u001b[39m\u001b[31mif nota >= 80\u001b[39m\n                 ^\n\u001b[31mSyntaxError\u001b[39m\u001b[31m:\u001b[39m expected ':'\n"
     ]
    }
   ],
   "source": [
    "# Ejemplo 2: evaluar una nota con if, elif y else\n",
    "# Pedimos una nota de 0 a 100\n",
    "nota = float(input(\"Ingrese la nota (0 a 100): \"))\n",
    "\n",
    "if nota >= 80:\n",
    "    resultado = \"Aprobado con excelencia\"\n",
    "else: # sino\n",
    "    if nota>=60:\n",
    "        resultado = \"Aprobado\"\n",
    "        print(\"Primer elif\")\n",
    "    else:\n",
    "        resultado = \"Sin clasificación\"\n",
    "\n",
    "print(f\"Con una nota de {nota}, el resultado es: {resultado}\")\n"
   ]
  },
  {
   "cell_type": "code",
   "execution_count": 16,
   "id": "76eb40ce",
   "metadata": {},
   "outputs": [
    {
     "ename": "NameError",
     "evalue": "name 'y' is not defined",
     "output_type": "error",
     "traceback": [
      "\u001b[31m---------------------------------------------------------------------------\u001b[39m",
      "\u001b[31mNameError\u001b[39m                                 Traceback (most recent call last)",
      "\u001b[36mCell\u001b[39m\u001b[36m \u001b[39m\u001b[32mIn[16]\u001b[39m\u001b[32m, line 1\u001b[39m\n\u001b[32m----> \u001b[39m\u001b[32m1\u001b[39m \u001b[38;5;28mprint\u001b[39m(\u001b[43my\u001b[49m)\n",
      "\u001b[31mNameError\u001b[39m: name 'y' is not defined"
     ]
    }
   ],
   "source": [
    "print(y)"
   ]
  },
  {
   "cell_type": "markdown",
   "id": "3fc6ab49",
   "metadata": {},
   "source": [
    "### Bucles (`for` y `while`)\n",
    "\n",
    "- `for` recorre una secuencia (lista, rango, cadena, etc.).\n",
    "- `while` repite mientras una condición sea verdadera.\n",
    "\n",
    "**Control de bucles:** `break` interrumpe; `continue` salta a la siguiente iteración; `pass` es placeholder.\n",
    "\n",
    "Ejemplo: contar cifras y uso de break/continue/pass.\n"
   ]
  },
  {
   "cell_type": "code",
   "execution_count": null,
   "id": "a69a739f",
   "metadata": {},
   "outputs": [],
   "source": []
  },
  {
   "cell_type": "code",
   "execution_count": 35,
   "id": "8e9197f4",
   "metadata": {},
   "outputs": [
    {
     "name": "stdout",
     "output_type": "stream",
     "text": [
      "x = 1\n",
      "x = 20\n",
      "x = 13\n",
      "x = 21\n",
      "x = 2\n",
      "x = 1\n",
      "Los numeros mayores a 15 son 2\n"
     ]
    }
   ],
   "source": [
    "numeros = [1, 20, 13, 21, 2, 1]\n",
    "contador = 0\n",
    "for x in numeros:\n",
    "    print(f\"x = {x}\")\n",
    "    if x>15:\n",
    "        contador += 1\n",
    "\n",
    "print(f\"Los numeros mayores a 15 son {contador}\")\n"
   ]
  },
  {
   "cell_type": "code",
   "execution_count": null,
   "id": "31de6a39",
   "metadata": {},
   "outputs": [
    {
     "name": "stdout",
     "output_type": "stream",
     "text": [
      "Recorrido de una lista con for:\n",
      "Fruta: manzana\n",
      "Fruta: banana\n",
      "Fruta: cereza\n",
      "\n",
      "Uso de range(5):\n",
      "i = 0\n",
      "i = 1\n",
      "i = 2\n",
      "i = 3\n",
      "i = 4\n",
      "\n",
      "Uso de range con inicio y paso:\n",
      "i = 2\n",
      "i = 4\n",
      "i = 6\n",
      "i = 8\n",
      "\n",
      "Uso de break (detener el bucle):\n",
      "i = 0\n",
      "i = 1\n",
      "i = 2\n",
      "Se alcanzó i == 3 → break detiene el bucle\n",
      "\n",
      "Uso de continue (saltar a la siguiente iteración):\n",
      "i = 0\n",
      "i = 1\n",
      "i == 2 → continue salta esta iteración\n",
      "i = 3\n",
      "i = 4\n",
      "\n",
      "Uso de enumerate para obtener índice y valor:\n",
      "Índice 0 → manzana\n",
      "Índice 1 → banana\n",
      "Índice 2 → cereza\n",
      "\n",
      "Uso de zip para recorrer dos listas al mismo tiempo:\n",
      "manzana → rojo\n",
      "banana → amarillo\n",
      "cereza → morado\n"
     ]
    }
   ],
   "source": [
    "# ===============================\n",
    "# EJEMPLOS DE BUCLES EN PYTHON\n",
    "# ===============================\n",
    "\n",
    "# -------------------------------\n",
    "# 1. for simple recorriendo listas\n",
    "# -------------------------------\n",
    "frutas = ['manzana', 'banana', 'cereza']\n",
    "print(\"Recorrido de una lista con for:\")\n",
    "for fruta in frutas:\n",
    "    print(\"Fruta:\", fruta)\n",
    "\n",
    "# Explicación:\n",
    "# El bucle recorre cada elemento de la lista y lo asigna a la variable 'fruta'.\n",
    "\n",
    "\n",
    "# -------------------------------\n",
    "# 2. for con range()\n",
    "# -------------------------------\n",
    "print(\"\\nUso de range(5):\")\n",
    "for i in range(5):  # range(5) genera [0,1,2,3,4]\n",
    "    print(\"i =\", i)\n",
    "\n",
    "print(\"\\nUso de range con inicio y paso:\")\n",
    "for i in range(2, 10, 2):  # inicio=2, fin=10, paso=2 → [2,4,6,8]\n",
    "    print(\"i =\", i)\n",
    "\n",
    "\n",
    "# -------------------------------\n",
    "# 3. Uso de break\n",
    "# -------------------------------\n",
    "print(\"\\nUso de break (detener el bucle):\")\n",
    "for i in range(5):\n",
    "    if i == 3:\n",
    "        print(\"Se alcanzó i == 3 → break detiene el bucle\")\n",
    "        break\n",
    "    print(\"i =\", i)\n",
    "\n",
    "# Explicación:\n",
    "# 'break' termina el bucle por completo, aunque aún queden elementos por recorrer.\n",
    "\n",
    "\n",
    "# -------------------------------\n",
    "# 4. Uso de continue\n",
    "# -------------------------------\n",
    "print(\"\\nUso de continue (saltar a la siguiente iteración):\")\n",
    "for i in range(5):\n",
    "    if i == 2:\n",
    "        print(\"i == 2 → continue salta esta iteración\")\n",
    "        continue\n",
    "    print(\"i =\", i)\n",
    "\n",
    "\n",
    "# -------------------------------\n",
    "# 5. for con enumerate()\n",
    "# -------------------------------\n",
    "print(\"\\nUso de enumerate para obtener índice y valor:\")\n",
    "for indice, fruta in enumerate(frutas):\n",
    "    print(f\"Índice {indice} → {fruta}\")\n",
    "\n",
    "\n",
    "# -------------------------------\n",
    "# 6. for con zip()\n",
    "# -------------------------------\n",
    "colores = ['rojo', 'amarillo', 'morado']\n",
    "print(\"\\nUso de zip para recorrer dos listas al mismo tiempo:\")\n",
    "for fruta, color in zip(frutas, colores):\n",
    "    print(f\"{fruta} → {color}\")\n",
    "\n",
    "\n",
    "\n",
    "\n"
   ]
  },
  {
   "cell_type": "code",
   "execution_count": null,
   "id": "6592f9d7",
   "metadata": {},
   "outputs": [
    {
     "name": "stdout",
     "output_type": "stream",
     "text": [
      "\n",
      "while con contador:\n",
      "contador = 0\n",
      "contador = 1\n",
      "contador = 2\n",
      "\n",
      "while con break:\n",
      "contador = 0\n",
      "contador = 1\n",
      "contador = 2\n",
      "contador = 3\n",
      "contador == 4 → break termina el bucle\n",
      "\n",
      "while con continue:\n",
      "contador = 1\n",
      "contador = 2\n",
      "contador == 3 → continue salta la impresión\n",
      "contador = 4\n",
      "contador = 5\n",
      "\n",
      "for anidado:\n",
      "manzana - rojo\n",
      "manzana - amarillo\n",
      "manzana - morado\n",
      "banana - rojo\n",
      "banana - amarillo\n",
      "banana - morado\n",
      "cereza - rojo\n",
      "cereza - amarillo\n",
      "cereza - morado\n"
     ]
    }
   ],
   "source": [
    "\n",
    "# -------------------------------\n",
    "# 7. while con contador\n",
    "# -------------------------------\n",
    "print(\"\\nwhile con contador:\")\n",
    "contador = 0\n",
    "while contador < 3:\n",
    "    print(\"contador =\", contador)\n",
    "    contador += 1\n",
    "\n",
    "# Explicación:\n",
    "# while repite mientras la condición sea True.\n",
    "\n",
    "\n",
    "# -------------------------------\n",
    "# 8. while con break\n",
    "# -------------------------------\n",
    "print(\"\\nwhile con break:\")\n",
    "contador = 0\n",
    "while True:  # bucle infinito hasta usar break\n",
    "    if contador == 4:\n",
    "        print(\"contador == 4 → break termina el bucle\")\n",
    "        break\n",
    "    print(\"contador =\", contador)\n",
    "    contador += 1\n",
    "\n",
    "\n",
    "# -------------------------------\n",
    "# 9. while con continue\n",
    "# -------------------------------\n",
    "print(\"\\nwhile con continue:\")\n",
    "contador = 0\n",
    "while contador < 5:\n",
    "    contador += 1\n",
    "    if contador == 3:\n",
    "        print(\"contador == 3 → continue salta la impresión\")\n",
    "        continue\n",
    "    print(\"contador =\", contador)\n",
    "\n",
    "\n",
    "# -------------------------------\n",
    "# 10. for anidado\n",
    "# -------------------------------\n",
    "print(\"\\nfor anidado:\")\n",
    "for fruta in frutas:\n",
    "    for color in colores:\n",
    "        print(fruta, \"-\", color)\n",
    "\n",
    "# Explicación:\n",
    "# Se combinan todos los elementos de la primera lista con los de la segunda."
   ]
  },
  {
   "cell_type": "code",
   "execution_count": null,
   "id": "307fdb2a",
   "metadata": {},
   "outputs": [
    {
     "name": "stdout",
     "output_type": "stream",
     "text": [
      "\n",
      "while con else:\n",
      "contador = 0\n",
      "contador = 1\n",
      "contador = 2\n",
      "El bucle terminó sin usar break\n",
      "\n",
      "for con else:\n",
      "i = 0\n",
      "i = 1\n",
      "i = 2\n",
      "El bucle terminó normalmente (sin break)\n",
      "\n",
      "Iterar sobre una cadena:\n",
      "Letra: P\n",
      "Letra: y\n",
      "Letra: t\n",
      "Letra: h\n",
      "Letra: o\n",
      "Letra: n\n",
      "\n",
      "List comprehension (elevar al cuadrado cada número):\n",
      "Entrada: [1, 2, 3, 4, 5]\n",
      "Salida (cuadrados): [1, 4, 9, 16, 25]\n"
     ]
    }
   ],
   "source": [
    "# -------------------------------\n",
    "# 11. while con else\n",
    "# -------------------------------\n",
    "print(\"\\nwhile con else:\")\n",
    "contador = 0\n",
    "while contador < 3:\n",
    "    print(\"contador =\", contador)\n",
    "    contador += 1\n",
    "else:\n",
    "    print(\"El bucle terminó sin usar break\")\n",
    "\n",
    "\n",
    "# -------------------------------\n",
    "# 12. for con else\n",
    "# -------------------------------\n",
    "print(\"\\nfor con else:\")\n",
    "for i in range(3):\n",
    "    print(\"i =\", i)\n",
    "else:\n",
    "    print(\"El bucle terminó normalmente (sin break)\")\n",
    "\n",
    "\n",
    "# -------------------------------\n",
    "# 13. Iterar sobre cadenas\n",
    "# -------------------------------\n",
    "print(\"\\nIterar sobre una cadena:\")\n",
    "texto = \"Python\"\n",
    "for letra in texto:\n",
    "    print(\"Letra:\", letra)\n",
    "\n",
    "\n",
    "# -------------------------------\n",
    "# 14. List comprehensions (forma compacta de bucles)\n",
    "# -------------------------------\n",
    "print(\"\\nList comprehension (elevar al cuadrado cada número):\")\n",
    "numeros = [1, 2, 3, 4, 5]\n",
    "cuadrados = [n**2 for n in numeros]\n",
    "print(\"Entrada:\", numeros)\n",
    "print(\"Salida (cuadrados):\", cuadrados)"
   ]
  },
  {
   "cell_type": "markdown",
   "id": "74600c23",
   "metadata": {},
   "source": [
    "## 5. Funciones\n",
    "\n",
    "Las funciones son bloques reutilizables que reciben parámetros y devuelven valores con `return`.\n",
    "\n",
    "Ventajas: evitar repetir código, facilitar mantenimiento y organizar mejor el programa.\n",
    "\n",
    "Ejemplo: función para elevar al cuadrado y una función más práctica para registrar temperaturas.\n"
   ]
  },
  {
   "cell_type": "code",
   "execution_count": 3,
   "id": "4008f1a8",
   "metadata": {},
   "outputs": [
    {
     "name": "stdout",
     "output_type": "stream",
     "text": [
      "imprimir hola esto es texto. k hola\n",
      "Fuera 1\n"
     ]
    }
   ],
   "source": [
    "t = 1\n",
    "def sumatoria(h:int, k:int):\n",
    "    print(f\"imprimir {h}. k {k}\")\n",
    "    return t\n",
    "\n",
    "\n",
    "t = sumatoria(\"hola esto es texto\",\"hola\")\n",
    "print(f\"Fuera {t}\")\n"
   ]
  },
  {
   "cell_type": "code",
   "execution_count": 88,
   "id": "f73baa24",
   "metadata": {},
   "outputs": [
    {
     "data": {
      "text/plain": [
       "1.34"
      ]
     },
     "execution_count": 88,
     "metadata": {},
     "output_type": "execute_result"
    }
   ],
   "source": [
    "\n",
    "round(1.343,2)"
   ]
  },
  {
   "cell_type": "code",
   "execution_count": null,
   "id": "4c68f170",
   "metadata": {},
   "outputs": [
    {
     "name": "stdout",
     "output_type": "stream",
     "text": [
      "Cuadrado de 5 -> 25\n",
      "Resumen temperaturas: {'promedio': 24.72, 'max': 27.1, 'min': 22.8, 'dias_altos': 2}\n"
     ]
    }
   ],
   "source": [
    "# Función simple\n",
    "\n",
    "def cuadrado(x):\n",
    "    \"\"\"Devuelve el cuadrado de x.\"\"\"\n",
    "    return x * x\n",
    "\n",
    "print('Cuadrado de 5 ->', cuadrado(5))\n",
    "\n",
    "# Función más completa: registro de temperaturas (no bloquea: usamos un ejemplo con datos por defecto)\n",
    "\n",
    "def resumen_temperaturas(temperaturas):\n",
    "    \"\"\"Recibe una lista de temperaturas (floats) y devuelve resumen: promedio, max, min, dias >25C.\"\"\"\n",
    "    promedio = sum(temperaturas) / len(temperaturas)\n",
    "    maxima = max(temperaturas)\n",
    "    minima = min(temperaturas)\n",
    "    dias_altos = sum(1 for t in temperaturas if t > 25)\n",
    "    return {'promedio': promedio, 'max': maxima, 'min': minima, 'dias_altos': dias_altos}\n",
    "\n",
    "# Ejemplo de uso\n",
    "lista_ejemplo = [23.5, 26.0, 24.2, 27.1, 22.8]\n",
    "print('Resumen temperaturas:', resumen_temperaturas(lista_ejemplo))\n"
   ]
  },
  {
   "cell_type": "markdown",
   "id": "6c47d35e",
   "metadata": {},
   "source": [
    "## 6. NumPy — arrays y operaciones vectorizadas\n",
    "\n",
    "NumPy es la biblioteca base para cálculo numérico en Python. Sus `ndarray` (arrays) son más eficientes que listas para operaciones numéricas y permiten vectorización.\n",
    "\n",
    "Conceptos clave: `shape`, `dtype`, `ndim`, operaciones element-wise (se aplican a todos los elementos), creación rápida con `zeros`, `ones`, `arange`, etc.\n"
   ]
  },
  {
   "cell_type": "code",
   "execution_count": 90,
   "id": "87b89b71",
   "metadata": {},
   "outputs": [
    {
     "name": "stderr",
     "output_type": "stream",
     "text": [
      "97107.21s - pydevd: Sending message related to process being replaced timed-out after 5 seconds\n"
     ]
    },
    {
     "name": "stdout",
     "output_type": "stream",
     "text": [
      "Requirement already satisfied: numpy in /Users/alex_espinosa/Documents/New_order/Guayerd/.venv/lib/python3.13/site-packages (2.3.3)\n",
      "Note: you may need to restart the kernel to use updated packages.\n"
     ]
    }
   ],
   "source": [
    "# instalar numpy\n",
    "%pip install numpy"
   ]
  },
  {
   "cell_type": "code",
   "execution_count": 3,
   "id": "2daaab8b",
   "metadata": {},
   "outputs": [
    {
     "name": "stdout",
     "output_type": "stream",
     "text": [
      "vector: [1 2 3 4]\n",
      "shape vector: (4,) ndim: 1\n",
      "matriz:\n",
      " [[1 2]\n",
      " [3 4]]\n",
      "shape matriz: (2, 2)\n",
      "\n",
      "Operaciones vectorizadas:\n",
      "vector + 2 -> [3 4 5 6]\n",
      "vector * 3 -> [ 3  6  9 12]\n",
      "vector + vector -> [2 4 6 8]\n",
      "\n",
      "Arrays especiales:\n",
      "zeros(3) -> [0. 0. 0.]\n",
      "ones((2,2)) ->\n",
      " [[1. 1.]\n",
      " [1. 1.]]\n",
      "arange(0,10,2) -> [0 2 4 6 8]\n",
      "\n",
      "Propiedades: dtype, size, nbytes\n",
      "dtype: float64 size: 3 nbytes: 24\n"
     ]
    }
   ],
   "source": [
    "import numpy as np  # as - como\n",
    "\n",
    "# Crear arrays\n",
    "vector = np.array([1, 2, 3, 4])\n",
    "matriz = np.array([[1, 2], [3, 4]])\n",
    "print('vector:', vector)\n",
    "print('shape vector:', vector.shape, 'ndim:', vector.ndim)\n",
    "print('matriz:\\n', matriz)\n",
    "print('shape matriz:', matriz.shape)\n",
    "\n",
    "# Operaciones vectorizadas\n",
    "print('\\nOperaciones vectorizadas:')\n",
    "print('vector + 2 ->', vector + 2)\n",
    "print('vector * 3 ->', vector * 3)\n",
    "print('vector + vector ->', vector + vector)\n",
    "\n",
    "# Arrays especiales\n",
    "print('\\nArrays especiales:')\n",
    "print('zeros(3) ->', np.zeros(3))\n",
    "print('ones((2,2)) ->\\n', np.ones((2,2)))\n",
    "print('arange(0,10,2) ->', np.arange(0,10,2))\n",
    "\n",
    "# Propiedades\n",
    "print('\\nPropiedades: dtype, size, nbytes')\n",
    "arr = np.array([1.0, 2.0, 3.0])\n",
    "print('dtype:', arr.dtype, 'size:', arr.size, 'nbytes:', arr.nbytes)\n"
   ]
  },
  {
   "cell_type": "code",
   "execution_count": 4,
   "id": "ef40233b",
   "metadata": {},
   "outputs": [
    {
     "data": {
      "text/plain": [
       "array([[0., 0., 0., 0., 0.],\n",
       "       [0., 0., 0., 0., 0.],\n",
       "       [0., 0., 0., 0., 0.]])"
      ]
     },
     "execution_count": 4,
     "metadata": {},
     "output_type": "execute_result"
    }
   ],
   "source": [
    "np.zeros((3,5))"
   ]
  },
  {
   "cell_type": "markdown",
   "id": "1523fe83",
   "metadata": {},
   "source": [
    "## 7. Mini-proyectos y ejemplos prácticos\n",
    "\n",
    "### 7.1 Primeras 10 ventas — problema planteado\n",
    "\n",
    "- Solicitar al usuario (o usar datos de ejemplo) los montos de las primeras 10 ventas.\n",
    "- Calcular promedio, identificar ventas por encima del promedio, total, mejor/peor venta.\n"
   ]
  },
  {
   "cell_type": "code",
   "execution_count": null,
   "id": "f06a3388",
   "metadata": {},
   "outputs": [
    {
     "name": "stdout",
     "output_type": "stream",
     "text": [
      "Ventas ejemplo: [120.0, 80.5, 95.0, 110.0, 150.0, 60.0, 200.0, 75.0, 90.0, 130.0]\n",
      "Resultado: {'promedio': 111.05, 'ventas_arriba_promedio': [120.0, 150.0, 200.0, 130.0], 'total': 1110.5, 'mejor': 200.0, 'peor': 60.0}\n"
     ]
    }
   ],
   "source": [
    "# Primeras 10 ventas — ejemplo no interactivo por defecto (para ejecución automática)\n",
    "\n",
    "def analizar_ventas(ventas):\n",
    "    promedio = sum(ventas) / len(ventas)\n",
    "    ventas_arriba_promedio = [v for v in ventas if v > promedio]\n",
    "    total = sum(ventas)\n",
    "    mejor = max(ventas)\n",
    "    peor = min(ventas)\n",
    "    return {'promedio': promedio, 'ventas_arriba_promedio': ventas_arriba_promedio, 'total': total, 'mejor': mejor, 'peor': peor}\n",
    "\n",
    "# Datos de ejemplo (sólo para ejecutar sin pedir input cada vez)\n",
    "ventas_ejemplo = [120.0, 80.5, 95.0, 110.0, 150.0, 60.0, 200.0, 75.0, 90.0, 130.0]\n",
    "resultado_ventas = analizar_ventas(ventas_ejemplo)\n",
    "print('Ventas ejemplo:', ventas_ejemplo)\n",
    "print('Resultado:', resultado_ventas)\n",
    "\n",
    "# Si se desea interactivo, descomenta y usa el bloque siguiente:\n",
    "# ventas_usuario = []\n",
    "# for i in range(10):\n",
    "#     ventas_usuario.append(float(input(f'Monto venta {i+1}: ')))\n",
    "# print(analizar_ventas(ventas_usuario))\n"
   ]
  },
  {
   "cell_type": "markdown",
   "id": "6fd2e039",
   "metadata": {},
   "source": [
    "### 7.2 Lista de productos (entrada hasta 'fin')\n",
    "\n",
    "Esta versión permite ingresar productos hasta que se escriba `fin`. Se muestra el diccionario, el total y el producto más caro.\n"
   ]
  },
  {
   "cell_type": "code",
   "execution_count": null,
   "id": "4e28f279",
   "metadata": {},
   "outputs": [
    {
     "name": "stdout",
     "output_type": "stream",
     "text": [
      "Ingresa productos y precios. Escribe 'fin' como nombre para terminar.\n",
      "\n",
      "Lista de compras: {'alex': 200.0, 'cereal': 500.0, 'detergente': 150.0, 'pelusa': 400.0, 'escoba': 500.0, 'plato': 1000.0, 'limpiador de piso': 2000.0}\n",
      "Total: 4750.0\n",
      "Producto más caro: limpiador de piso\n"
     ]
    }
   ],
   "source": [
    "# Ejemplo de entrada dinámica (usa 'fin' para terminar). Si trabajas en un entorno que no permite input, usa los datos de ejemplo.\n",
    "\n",
    "productos = {}\n",
    "print(\"Ingresa productos y precios. Escribe 'fin' como nombre para terminar.\")\n",
    "while True:\n",
    "    nombre = input('Nombre producto: ')\n",
    "    if nombre.lower() == 'fin':\n",
    "        break\n",
    "    try:\n",
    "        precio = float(input('Precio: '))\n",
    "    except ValueError:\n",
    "        print('Precio inválido, intenta de nuevo.')\n",
    "        continue\n",
    "    productos[nombre] = precio\n",
    "\n",
    "if productos:\n",
    "    total = sum(productos.values())\n",
    "    mas_caro = max(productos, key=productos.get)\n",
    "    print('\\nLista de compras:', productos)\n",
    "    print('Total:', total)\n",
    "    print('Producto más caro:', mas_caro)\n",
    "else:\n",
    "    print('No se ingresaron productos.')\n"
   ]
  },
  {
   "cell_type": "markdown",
   "id": "bfa7f1e9",
   "metadata": {},
   "source": [
    "## 8. El arte de preguntar y estructurar un análisis (recordatorio práctico)\n",
    "\n",
    "Antes de codificar o modelar, documenta:\n",
    "\n",
    "- **Problema**: ¿Qué acción o resultado buscamos?\n",
    "- **Por qué**: Prioridad y relevancia.\n",
    "- **Cuándo**: Plazos y granularidad temporal.\n",
    "- **Datos**: Qué datos están disponibles, su escala, calidad y limitaciones.\n",
    "- **Enfoque**: Qué relaciones explorar primero, qué variables incluir.\n",
    "\n",
    "Esta estructura se traduce en requisitos concretos para el programa o el pipeline de datos.\n",
    "\n",
    "---"
   ]
  },
  {
   "cell_type": "markdown",
   "id": "4feaa37d",
   "metadata": {},
   "source": [
    "# 9. Ejercicios\n",
    "\n"
   ]
  },
  {
   "cell_type": "markdown",
   "id": "d5932d68",
   "metadata": {},
   "source": [
    "## Ejercicio: Análisis de temperaturas semanales\n",
    "\n",
    "**Objetivo:**  \n",
    "1. Solicitar al usuario la temperatura de 5 días consecutivos.  \n",
    "2. Calcular la temperatura promedio, máxima y mínima de la semana.  \n",
    "3. Contar cuántos días tuvieron temperatura alta (mayor a 25 °C).  \n",
    "4. Mostrar un resumen completo con los resultados.  \n",
    "\n",
    "**Conceptos aplicados:**  \n",
    "- Entrada de datos con `input()`  \n",
    "- Conversión de valores a `float`  \n",
    "- Uso de listas para almacenar múltiples valores  \n",
    "- Funciones integradas de Python: `sum()`, `max()`, `min()`, `len()`  \n",
    "- Estructuras de control (`for`, `if`)  "
   ]
  },
  {
   "cell_type": "code",
   "execution_count": 89,
   "id": "ae99d45c",
   "metadata": {},
   "outputs": [
    {
     "name": "stdout",
     "output_type": "stream",
     "text": [
      "\n",
      "--- Resumen de la semana ---\n",
      "Temperaturas registradas: [30.0, 40.0, 56.0, 15.0, 23.4]\n",
      "Promedio semanal: 32.88 °C\n",
      "Temperatura máxima: 56.00 °C\n",
      "Temperatura mínima: 15.00 °C\n",
      "Días con temperatura > 25°C: 3\n"
     ]
    }
   ],
   "source": [
    "# Creamos una lista vacía donde guardaremos las temperaturas que el usuario ingrese.\n",
    "temperaturas = []\n",
    "\n",
    "# Usamos un bucle for para pedir la temperatura de 5 días consecutivos.\n",
    "# range(5) genera los números 0, 1, 2, 3, 4 → pero como usamos i+1, mostramos Día 1 a Día 5.\n",
    "for i in range(5):\n",
    "    # Pedimos la temperatura al usuario con input().\n",
    "    # La convertimos a float porque puede tener decimales (ejemplo: 25.6).\n",
    "    temp = float(input(f\"Ingrese la temperatura del día {i+1}: \"))\n",
    "    \n",
    "    # Agregamos (append) el valor ingresado a la lista 'temperaturas'.\n",
    "    temperaturas.append(temp)\n",
    "\n",
    "# ------------------------------\n",
    "# Cálculos principales\n",
    "# ------------------------------\n",
    "\n",
    "# Promedio = suma de todas las temperaturas dividido por la cantidad de días (len).\n",
    "promedio = sum(temperaturas) / len(temperaturas)\n",
    "\n",
    "# Temperatura máxima registrada en la lista.\n",
    "maxima = max(temperaturas)\n",
    "\n",
    "# Temperatura mínima registrada en la lista.\n",
    "minima = min(temperaturas)\n",
    "\n",
    "# Contamos cuántos días tuvieron temperatura mayor a 25°C.\n",
    "# Aquí usamos una expresión generadora:\n",
    "# sum(1 for t in temperaturas if t > 25) → suma 1 cada vez que la condición es verdadera.\n",
    "dias_calidos = 0\n",
    "for t in temperaturas:\n",
    "    if t > 25:\n",
    "        dias_calidos += 1\n",
    "\n",
    "# ------------------------------\n",
    "# Mostrar resumen final\n",
    "# ------------------------------\n",
    "\n",
    "print(\"\\n--- Resumen de la semana ---Temperaturas registradas:\", temperaturas)  # Lista completa de temperaturas\n",
    "print(f\"Promedio semanal: {promedio:.2f} °C\")     # :.2f limita a 2 decimales\n",
    "print(f\"Temperatura máxima: {maxima:.2f} °C\")\n",
    "print(f\"Temperatura mínima: {minima:.2f} °C\")\n",
    "print(f\"Días con temperatura > 25°C: {dias_calidos}\")"
   ]
  },
  {
   "cell_type": "markdown",
   "id": "0d1f3d00",
   "metadata": {},
   "source": [
    "## Ejercicio: Análisis de las primeras 10 ventas\n",
    "\n",
    "**Contexto:**  \n",
    "Has abierto tu primera tienda y quieres analizar las primeras 10 ventas para entender cómo está arrancando tu negocio.\n",
    "\n",
    "**Objetivos del programa:**  \n",
    "1. Solicitar al usuario el monto de las primeras 10 ventas.  \n",
    "2. Calcular el promedio de estas ventas iniciales.  \n",
    "3. Identificar cuáles ventas estuvieron por encima del promedio.  \n",
    "4. Calcular el total recaudado en estas primeras ventas.  \n",
    "5. Determinar la mejor y la peor venta inicial.  \n",
    "\n",
    "**Conceptos aplicados:**  \n",
    "- Listas en Python para almacenar montos de ventas.  \n",
    "- Bucle `for` para capturar datos repetidamente.  \n",
    "- Funciones integradas: `sum()`, `len()`, `max()`, `min()`.  \n",
    "- List comprehensions para filtrar elementos (ventas mayores al promedio).  \n",
    "- Impresión formateada con f-strings para mostrar resultados claros. "
   ]
  },
  {
   "cell_type": "code",
   "execution_count": null,
   "id": "e657e60c",
   "metadata": {},
   "outputs": [
    {
     "name": "stdout",
     "output_type": "stream",
     "text": [
      "\n",
      "--- Resumen de las primeras 10 ventas ---\n",
      "Ventas registradas: [50.0, 40.0, 300.0, 2200.0, 3230.0, 3230.0, 23230.0, 232340.0, 232340.0, 2343240.0]\n",
      "Promedio de ventas: 284020.00\n",
      "Ventas por encima del promedio: [2343240.0]\n",
      "Total recaudado: 2840200.00\n",
      "Mejor venta: 2343240.00\n",
      "Peor venta: 40.00\n"
     ]
    }
   ],
   "source": [
    "# Lista vacía donde guardaremos los montos de las ventas\n",
    "ventas = []\n",
    "\n",
    "# Usamos un bucle for para pedir al usuario los montos de 10 ventas\n",
    "for i in range(10):\n",
    "    # input() devuelve texto, así que lo convertimos a float para trabajar con decimales\n",
    "    monto = float(input(f\"Ingrese el monto de la venta {i+1}: \"))\n",
    "    \n",
    "    # Guardamos el valor en la lista 'ventas'\n",
    "    ventas.append(monto)\n",
    "\n",
    "# ------------------------------\n",
    "# Cálculos principales\n",
    "# ------------------------------\n",
    "\n",
    "# Promedio de ventas = suma total / cantidad de ventas\n",
    "promedio = sum(ventas) / len(ventas)\n",
    "\n",
    "# Ventas por encima del promedio (usamos list comprehension)\n",
    "ventas_sobre_promedio = [v for v in ventas if v > promedio]\n",
    "\n",
    "# Total recaudado en las 10 ventas\n",
    "total = sum(ventas)\n",
    "\n",
    "# Mejor y peor venta usando max() y min()\n",
    "mejor_venta = max(ventas)\n",
    "peor_venta = min(ventas)\n",
    "\n",
    "# ------------------------------\n",
    "# Mostrar resultados\n",
    "# ------------------------------\n",
    "\n",
    "print(\"\\n--- Resumen de las primeras 10 ventas ---\")\n",
    "print(\"Ventas registradas:\", ventas)\n",
    "print(f\"Promedio de ventas: {promedio:.2f}\")\n",
    "print(\"Ventas por encima del promedio:\", ventas_sobre_promedio)\n",
    "print(f\"Total recaudado: {total:.2f}\")\n",
    "print(f\"Mejor venta: {mejor_venta:.2f}\")\n",
    "print(f\"Peor venta: {peor_venta:.2f}\")"
   ]
  }
 ],
 "metadata": {
  "kernelspec": {
   "display_name": ".venv",
   "language": "python",
   "name": "python3"
  },
  "language_info": {
   "codemirror_mode": {
    "name": "ipython",
    "version": 3
   },
   "file_extension": ".py",
   "mimetype": "text/x-python",
   "name": "python",
   "nbconvert_exporter": "python",
   "pygments_lexer": "ipython3",
   "version": "3.13.3"
  }
 },
 "nbformat": 4,
 "nbformat_minor": 5
}
