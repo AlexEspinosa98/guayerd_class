{
 "cells": [
  {
   "cell_type": "markdown",
   "id": "ab997678",
   "metadata": {},
   "source": [
    "\n",
    "# Clase 6 - Fundamentos de IA (IBM)\n",
    "## Tema: Limpieza y Transformación de Datos con Python (pandas)\n",
    "\n",
    "En esta clase aprenderemos a preparar datos antes de analizarlos.  \n",
    "Este proceso es fundamental porque **los datos sin limpiar pueden llevar a conclusiones erróneas**.\n",
    "\n",
    "---\n",
    "\n",
    "### Objetivos de Aprendizaje\n",
    "1. Comprender la importancia de la limpieza de datos en el ciclo de vida de la analítica.\n",
    "2. Identificar problemas comunes en datasets reales.\n",
    "3. Aplicar técnicas de limpieza con `pandas`.\n",
    "4. Realizar transformaciones básicas para mejorar la calidad de los datos.\n",
    "5. Resolver un caso práctico de negocio: **Café de Barrio**.\n",
    "\n",
    "---\n",
    "\n",
    "### Preguntas iniciales para reflexionar\n",
    "- ¿Qué recuerdas de la clase anterior?\n",
    "- ¿Qué esperas aprender hoy?\n",
    "- ¿Qué dudas tienes antes de comenzar?\n"
   ]
  },
  {
   "cell_type": "markdown",
   "id": "1a5a2eba",
   "metadata": {},
   "source": [
    "## 1. Importación de Librerías y Configuración Inicial"
   ]
  },
  {
   "cell_type": "code",
   "execution_count": null,
   "id": "fffe4e7e",
   "metadata": {},
   "outputs": [],
   "source": [
    "\n",
    "import pandas as pd\n",
    "import numpy as np\n",
    "import matplotlib.pyplot as plt\n",
    "import random\n",
    "\n",
    "# Configuración para mostrar más información en las tablas\n",
    "pd.set_option('display.max_columns', None)\n",
    "pd.set_option('display.max_rows', 50)\n",
    "\n",
    "print(\"Librerías cargadas correctamente.\")\n"
   ]
  },
  {
   "cell_type": "markdown",
   "id": "5cfd5967",
   "metadata": {},
   "source": [
    "\n",
    "## 2. Generación de un Dataset de Ejemplo (Simulado)\n",
    "\n",
    "Para practicar, vamos a **generar un dataset grande** (300 registros) con diferentes problemas:\n",
    "- Valores faltantes.\n",
    "- Duplicados.\n",
    "- Fechas en distintos formatos.\n",
    "- Emails repetidos.\n",
    "- Precios negativos o extremadamente altos.\n",
    "- Texto en diferentes capitalizaciones.\n",
    "\n",
    "Así podremos aplicar todas las técnicas de limpieza en un solo caso.\n"
   ]
  },
  {
   "cell_type": "code",
   "execution_count": null,
   "id": "4bdc33d8",
   "metadata": {},
   "outputs": [],
   "source": [
    "\n",
    "# Función para generar datos de ejemplo\n",
    "np.random.seed(42)\n",
    "random.seed(42)\n",
    "\n",
    "clientes = [\"Ana\", \"Luis\", \"Carla\", \"Pedro\", \"Maria\", \"Sofia\", \"Carlos\", \"Laura\", \"Diego\", \"Valentina\"]\n",
    "emails = [c.lower() + \"@mail.com\" for c in clientes]\n",
    "\n",
    "def generar_fecha():\n",
    "    formatos = [\"%Y-%m-%d\", \"%d/%m/%Y\", \"%b %d, %Y\"]\n",
    "    fecha = pd.to_datetime(\"2024-01-01\") + pd.to_timedelta(np.random.randint(0, 365), unit=\"D\")\n",
    "    return fecha.strftime(random.choice(formatos))\n",
    "\n",
    "data = {\n",
    "    \"cliente\": [random.choice(clientes + [None]) for _ in range(300)],\n",
    "    \"fecha\": [generar_fecha() if random.random() > 0.05 else None for _ in range(300)],\n",
    "    \"email\": [random.choice(emails) for _ in range(300)],\n",
    "    \"precio\": [random.choice([random.randint(-100, 2000), None, 999999]) for _ in range(300)],\n",
    "    \"satisfaccion\": [random.choice([1,2,3,4,5,None]) for _ in range(300)]\n",
    "}\n",
    "\n",
    "df = pd.DataFrame(data)\n",
    "df.head(10)\n"
   ]
  },
  {
   "cell_type": "markdown",
   "id": "91b1ba57",
   "metadata": {},
   "source": [
    "## 3. Inspección Inicial del Dataset"
   ]
  },
  {
   "cell_type": "code",
   "execution_count": null,
   "id": "6c61c1ef",
   "metadata": {},
   "outputs": [],
   "source": [
    "df.info()"
   ]
  },
  {
   "cell_type": "code",
   "execution_count": null,
   "id": "652ba041",
   "metadata": {},
   "outputs": [],
   "source": [
    "df.describe(include='all')"
   ]
  },
  {
   "cell_type": "code",
   "execution_count": null,
   "id": "10ba2e9f",
   "metadata": {},
   "outputs": [],
   "source": [
    "df.isnull().sum()"
   ]
  },
  {
   "cell_type": "markdown",
   "id": "54d9ea46",
   "metadata": {},
   "source": [
    "\n",
    "## 4. Tratamiento de Valores Faltantes\n",
    "\n",
    "Estrategias posibles:\n",
    "1. Eliminar filas con valores nulos.\n",
    "2. Rellenar con un valor estadístico (media, mediana, moda).\n",
    "3. Rellenar con un valor fijo.\n",
    "4. Usar métodos de propagación (`ffill` o `bfill`).\n"
   ]
  },
  {
   "cell_type": "code",
   "execution_count": null,
   "id": "907e98c1",
   "metadata": {},
   "outputs": [],
   "source": [
    "\n",
    "# Eliminar filas con valores faltantes en 'cliente'\n",
    "df_dropna = df.dropna(subset=['cliente'])\n",
    "print(\"Tamaño original:\", df.shape)\n",
    "print(\"Después de eliminar:\", df_dropna.shape)\n",
    "\n",
    "# Rellenar NaN en precio con la mediana\n",
    "df['precio'] = df['precio'].fillna(df['precio'].median())\n",
    "\n",
    "# Rellenar NaN en satisfacción con 3 (neutral)\n",
    "df['satisfaccion'] = df['satisfaccion'].fillna(3)\n",
    "\n",
    "df.head(10)\n"
   ]
  },
  {
   "cell_type": "markdown",
   "id": "301303ad",
   "metadata": {},
   "source": [
    "## 5. Eliminación de Duplicados"
   ]
  },
  {
   "cell_type": "code",
   "execution_count": null,
   "id": "6c3c429f",
   "metadata": {},
   "outputs": [],
   "source": [
    "\n",
    "# Buscar duplicados en email\n",
    "duplicados = df[df.duplicated(subset=['email'], keep=False)]\n",
    "print(\"Duplicados detectados:\", len(duplicados))\n",
    "\n",
    "# Eliminar duplicados\n",
    "df = df.drop_duplicates(subset=['email'])\n",
    "df.head()\n"
   ]
  },
  {
   "cell_type": "markdown",
   "id": "af8ef830",
   "metadata": {},
   "source": [
    "## 6. Manejo de Inconsistencias de Formato en Fechas"
   ]
  },
  {
   "cell_type": "code",
   "execution_count": null,
   "id": "9d7206a4",
   "metadata": {},
   "outputs": [],
   "source": [
    "\n",
    "# Convertir columna fecha a datetime\n",
    "df['fecha'] = pd.to_datetime(df['fecha'], errors='coerce')\n",
    "df[['cliente', 'fecha']].head(10)\n"
   ]
  },
  {
   "cell_type": "markdown",
   "id": "a64838f1",
   "metadata": {},
   "source": [
    "## 7. Manejo de Valores Atípicos (Outliers)"
   ]
  },
  {
   "cell_type": "code",
   "execution_count": null,
   "id": "136f2dc9",
   "metadata": {},
   "outputs": [],
   "source": [
    "\n",
    "# Detección con boxplot\n",
    "plt.boxplot(df['precio'])\n",
    "plt.title(\"Boxplot de precios\")\n",
    "plt.show()\n",
    "\n",
    "# Filtrar precios negativos o extremadamente altos\n",
    "df = df[(df['precio'] > 0) & (df['precio'] < 10000)]\n",
    "df.describe()\n"
   ]
  },
  {
   "cell_type": "markdown",
   "id": "588b6561",
   "metadata": {},
   "source": [
    "## 8. Transformaciones Básicas"
   ]
  },
  {
   "cell_type": "code",
   "execution_count": null,
   "id": "f8f1280e",
   "metadata": {},
   "outputs": [],
   "source": [
    "\n",
    "# Normalizar nombres de clientes a mayúsculas\n",
    "df['cliente'] = df['cliente'].str.upper()\n",
    "\n",
    "# Crear nueva columna de rango de satisfacción\n",
    "df['satisfaccion_categoria'] = df['satisfaccion'].replace({1:\"Muy Baja\",2:\"Baja\",3:\"Media\",4:\"Alta\",5:\"Muy Alta\"})\n",
    "\n",
    "# Crear nueva columna: logaritmo del precio\n",
    "df['precio_log'] = np.log(df['precio'] + 1)\n",
    "\n",
    "df.head(10)\n"
   ]
  },
  {
   "cell_type": "markdown",
   "id": "5ff7a3cf",
   "metadata": {},
   "source": [
    "## 9. Ejemplos Adicionales de Transformaciones"
   ]
  },
  {
   "cell_type": "code",
   "execution_count": null,
   "id": "22f35343",
   "metadata": {},
   "outputs": [],
   "source": [
    "\n",
    "# Extraer año y mes de la fecha\n",
    "df['anio'] = df['fecha'].dt.year\n",
    "df['mes'] = df['fecha'].dt.month\n",
    "\n",
    "# Contar cuántos clientes por mes\n",
    "clientes_mes = df.groupby('mes')['cliente'].count()\n",
    "print(clientes_mes)\n",
    "\n",
    "# Agrupar satisfacción promedio por año\n",
    "satisfaccion_anual = df.groupby('anio')['satisfaccion'].mean()\n",
    "print(satisfaccion_anual)\n"
   ]
  },
  {
   "cell_type": "markdown",
   "id": "d3f1699d",
   "metadata": {},
   "source": [
    "## 10. Caso Práctico: Café de Barrio"
   ]
  },
  {
   "cell_type": "code",
   "execution_count": null,
   "id": "3717ecab",
   "metadata": {},
   "outputs": [],
   "source": [
    "\n",
    "# Simulación de datos de Café de Barrio\n",
    "np.random.seed(123)\n",
    "cafe = pd.DataFrame({\n",
    "    \"mes\": pd.date_range(\"2024-01-01\", periods=12, freq=\"M\"),\n",
    "    \"temperatura\": np.random.randint(18, 35, 12),\n",
    "    \"ventas\": np.random.randint(200, 1000, 12),\n",
    "    \"publicidad\": np.random.randint(100, 500, 12),\n",
    "    \"empleados\": np.random.randint(3, 10, 12),\n",
    "    \"satisfaccion\": np.random.randint(1, 6, 12)\n",
    "})\n",
    "cafe.head()\n"
   ]
  },
  {
   "cell_type": "code",
   "execution_count": null,
   "id": "44f4930b",
   "metadata": {},
   "outputs": [],
   "source": [
    "\n",
    "# Correlación temperatura vs ventas\n",
    "print(\"Correlación:\", cafe['temperatura'].corr(cafe['ventas']))\n",
    "plt.scatter(cafe['temperatura'], cafe['ventas'])\n",
    "plt.xlabel(\"Temperatura (°C)\")\n",
    "plt.ylabel(\"Ventas\")\n",
    "plt.title(\"Relación temperatura - ventas\")\n",
    "plt.show()\n"
   ]
  },
  {
   "cell_type": "markdown",
   "id": "07a0687e",
   "metadata": {},
   "source": [
    "\n",
    "## 11. Cierre y Reflexión\n",
    "\n",
    "- ¿Qué fue lo más útil de la clase?  \n",
    "- ¿Qué parte te costó más?  \n",
    "- ¿Qué te gustaría repasar o reforzar?  \n",
    "\n",
    "👉 Con esta práctica, entendimos cómo los **datos crudos** pueden transformarse en **datos útiles para la toma de decisiones**.\n"
   ]
  }
 ],
 "metadata": {},
 "nbformat": 4,
 "nbformat_minor": 5
}
