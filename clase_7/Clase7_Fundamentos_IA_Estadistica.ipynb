{
 "cells": [
  {
   "cell_type": "markdown",
   "id": "5a11dff7",
   "metadata": {},
   "source": [
    "# Clase 7 — Fundamentos IA: Estadística aplicada con Python\n",
    "\n",
    "Este notebook está diseñado para usar en clase: incluye **muchos ejemplos**, explicaciones en Markdown y código listo para ejecutar. \n",
    "Contenidos:\n",
    "\n",
    "- Estadística descriptiva (media, mediana, moda, varianza, desviación estándar, rango)\n",
    "- Medidas de posición (cuartiles, percentiles)\n",
    "- Distribuciones (normal, sesgada, bimodal, uniforme)\n",
    "- Correlaciones y visualizaciones\n",
    "- Correlación vs causalidad\n",
    "- Detección e interpretación de outliers\n",
    "- Caso práctico: E-commerce (ventas vs publicidad)\n",
    "\n",
    "Ejecuta las celdas en orden. Todas las gráficas usan `matplotlib` (sin especificar colores) para garantizar consistencia didáctica.\n"
   ]
  },
  {
   "cell_type": "code",
   "execution_count": null,
   "id": "adf6c9e1",
   "metadata": {},
   "outputs": [],
   "source": [
    "import numpy as np\n",
    "import pandas as pd\n",
    "import matplotlib.pyplot as plt\n",
    "from scipy import stats\n",
    "\n",
    "# Ajustes visuales mínimos\n",
    "plt.rcParams['figure.figsize'] = (8,4)\n",
    "plt.rcParams['font.size'] = 12\n",
    "\n",
    "print('librerías cargadas')"
   ]
  },
  {
   "cell_type": "markdown",
   "id": "418a05f1",
   "metadata": {},
   "source": [
    "## Dataset 1 — Salarios (ejemplo realista y pequeño)\n",
    "Generaremos un dataset con variables típicas: `salario_kusd` (miles USD), `edad`, `experiencia_anios`, `nivel_educativo` (categoría), `departamento` (categoría)."
   ]
  },
  {
   "cell_type": "code",
   "execution_count": null,
   "id": "212d4143",
   "metadata": {},
   "outputs": [],
   "source": [
    "# Generar dataset de salarios\n",
    "np.random.seed(42)\n",
    "N = 200\n",
    "edad = np.random.normal(35, 8, N).astype(int)\n",
    "experiencia = np.clip((edad - 22) + np.random.normal(0, 3, N), 0, None).round(1)\n",
    "\n",
    "# salario base según experiencia y educación\n",
    "nivel_edu = np.random.choice(['Bachiller', 'Pregrado', 'Posgrado'], size=N, p=[0.15, 0.65, 0.20])\n",
    "salario_kusd = 20 + experiencia * 1.3 + (np.where(nivel_edu=='Pregrado', 5, np.where(nivel_edu=='Posgrado', 12, 0)))\n",
    "# añadir ruido y algunos outliers\n",
    "salario_kusd = salario_kusd + np.random.normal(0, 5, N)\n",
    "# forzar algunos outliers altos y bajos\n",
    "salario_kusd[5] = 120  # outlier alto\n",
    "salario_kusd[12] = 5   # outlier bajo\n",
    "\n",
    "df_sal = pd.DataFrame({\n",
    "    'salario_kusd': np.round(salario_kusd,2),\n",
    "    'edad': edad,\n",
    "    'experiencia_anios': experiencia,\n",
    "    'nivel_educativo': nivel_edu,\n",
    "    'departamento': np.random.choice(['Ventas','TI','Operaciones','Marketing'], size=N)\n",
    "})\n",
    "\n",
    "df_sal.head()"
   ]
  },
  {
   "cell_type": "markdown",
   "id": "e6358d25",
   "metadata": {},
   "source": [
    "### Estadística descriptiva — ejemplos\n",
    "Calcularemos media, mediana, moda, rango, varianza y desviación estándar. Interpretaremos diferencias entre media y mediana."
   ]
  },
  {
   "cell_type": "code",
   "execution_count": null,
   "id": "35811425",
   "metadata": {},
   "outputs": [],
   "source": [
    "# Estadísticos básicos\n",
    "stats_sal = df_sal['salario_kusd'].describe()\n",
    "media = df_sal['salario_kusd'].mean()\n",
    "mediana = df_sal['salario_kusd'].median()\n",
    "moda = df_sal['salario_kusd'].mode().iloc[0]\n",
    "varianza = df_sal['salario_kusd'].var()\n",
    "desv_std = df_sal['salario_kusd'].std()\n",
    "rango = df_sal['salario_kusd'].max() - df_sal['salario_kusd'].min()\n",
    "\n",
    "stats_sal, media, mediana, moda, varianza, desv_std, rango"
   ]
  },
  {
   "cell_type": "markdown",
   "id": "6336d89b",
   "metadata": {},
   "source": [
    "### Visualizaciones: Histograma y boxplot\n",
    "Mostraremos la forma de la distribución y detectaremos outliers con boxplot."
   ]
  },
  {
   "cell_type": "code",
   "execution_count": null,
   "id": "fec8c1d7",
   "metadata": {},
   "outputs": [],
   "source": [
    "# Histograma\n",
    "plt.figure()\n",
    "plt.hist(df_sal['salario_kusd'], bins=20)\n",
    "plt.title('Histograma de salarios (miles USD)')\n",
    "plt.xlabel('Salario (kUSD)')\n",
    "plt.ylabel('Frecuencia')\n",
    "plt.show()\n",
    "\n",
    "# Boxplot\n",
    "plt.figure()\n",
    "plt.boxplot(df_sal['salario_kusd'], vert=False)\n",
    "plt.title('Boxplot de salarios')\n",
    "plt.xlabel('Salario (kUSD)')\n",
    "plt.show()"
   ]
  },
  {
   "cell_type": "markdown",
   "id": "6a225413",
   "metadata": {},
   "source": [
    "**Interpretación — Media vs Mediana**\n",
    "\n",
    "- Cuando existe un outlier (por ejemplo un salario extremadamente alto), la **media** se desplaza hacia ese valor mientras que la **mediana** se mantiene más robusta.\n",
    "- Siempre reportar ambas métricas si la distribución no es simétrica."
   ]
  },
  {
   "cell_type": "code",
   "execution_count": null,
   "id": "cf012b78",
   "metadata": {},
   "outputs": [],
   "source": [
    "# Mostrar media y mediana en el dataset\n",
    "print(f\"Media: {media:.2f} kUSD\")\n",
    "print(f\"Mediana: {mediana:.2f} kUSD\")\n",
    "print(f\"Moda: {moda:.2f} kUSD\")\n",
    "print(f\"Rango: {rango:.2f} kUSD\")\n",
    "print(f\"Desviación estándar: {desv_std:.2f} kUSD\")"
   ]
  },
  {
   "cell_type": "markdown",
   "id": "0b3ad3ce",
   "metadata": {},
   "source": [
    "### Medidas de posición: cuartiles y percentiles\n",
    "Calcularemos cuartiles y percentiles y mostraremos ejemplos de interpretación."
   ]
  },
  {
   "cell_type": "code",
   "execution_count": null,
   "id": "e1ae9c1e",
   "metadata": {},
   "outputs": [],
   "source": [
    "q1 = df_sal['salario_kusd'].quantile(0.25)\n",
    "q2 = df_sal['salario_kusd'].quantile(0.5)\n",
    "q3 = df_sal['salario_kusd'].quantile(0.75)\n",
    "percentiles = df_sal['salario_kusd'].quantile([0.1,0.25,0.5,0.75,0.9])\n",
    "\n",
    "q1, q2, q3, percentiles"
   ]
  },
  {
   "cell_type": "markdown",
   "id": "c3779ec0",
   "metadata": {},
   "source": [
    "## Tipos de distribuciones — ejemplos sintéticos\n",
    "Generaremos datos sintéticos para ver claramente: normal, sesgada a la derecha, bimodal y uniforme."
   ]
  },
  {
   "cell_type": "code",
   "execution_count": null,
   "id": "937fdb5d",
   "metadata": {},
   "outputs": [],
   "source": [
    "# Normal\n",
    "x_norm = np.random.normal(50, 10, 1000)\n",
    "# Sesgada a la derecha (log-normal)\n",
    "x_right = np.random.lognormal(mean=3.7, sigma=0.4, size=1000)\n",
    "# Bimodal: mezcla de dos normales\n",
    "x_bimodal = np.concatenate([np.random.normal(30,5,600), np.random.normal(60,5,400)])\n",
    "# Uniforme\n",
    "x_unif = np.random.uniform(20,80,1000)\n",
    "\n",
    "fig, axs = plt.subplots(2,2, figsize=(12,8))\n",
    "axs = axs.ravel()\n",
    "axs[0].hist(x_norm, bins=30)\n",
    "axs[0].set_title('Normal')\n",
    "axs[1].hist(x_right, bins=30)\n",
    "axs[1].set_title('Sesgada a la derecha (log-normal)')\n",
    "axs[2].hist(x_bimodal, bins=30)\n",
    "axs[2].set_title('Bimodal')\n",
    "axs[3].hist(x_unif, bins=30)\n",
    "axs[3].set_title('Uniforme')\n",
    "\n",
    "for ax in axs:\n",
    "    ax.set_xlabel('Valor')\n",
    "    ax.set_ylabel('Frecuencia')\n",
    "plt.tight_layout()\n",
    "plt.show()"
   ]
  },
  {
   "cell_type": "markdown",
   "id": "0bfd6372",
   "metadata": {},
   "source": [
    "## Correlaciones — ejemplos y visualización\n",
    "Calcularemos la matriz de correlación entre variables numéricas y mostraremos una visualización con `imshow` y barras de color."
   ]
  },
  {
   "cell_type": "code",
   "execution_count": null,
   "id": "8c21f117",
   "metadata": {},
   "outputs": [],
   "source": [
    "# Correlación en df_sal\n",
    "num_cols = df_sal.select_dtypes(include=[np.number])\n",
    "cor_mat = num_cols.corr()\n",
    "\n",
    "# Visualizar con imshow\n",
    "plt.figure()\n",
    "plt.imshow(cor_mat, vmin=-1, vmax=1)\n",
    "plt.colorbar()\n",
    "plt.xticks(range(len(cor_mat.columns)), cor_mat.columns, rotation=45)\n",
    "plt.yticks(range(len(cor_mat.columns)), cor_mat.columns)\n",
    "plt.title('Matriz de correlación (df_sal)')\n",
    "plt.show()\n",
    "\n",
    "cor_mat"
   ]
  },
  {
   "cell_type": "markdown",
   "id": "c5145e49",
   "metadata": {},
   "source": [
    "### Correlación no implica causalidad — ejemplo con variable oculta\n",
    "Crearemos un ejemplo simple donde dos variables están correlacionadas por una tercera variable latente (edad -> experiencia -> salario)."
   ]
  },
  {
   "cell_type": "code",
   "execution_count": null,
   "id": "d63a5a03",
   "metadata": {},
   "outputs": [],
   "source": [
    "# Ejemplo: variable latente\n",
    "# Generamos A: edad, B: experiencia derivada de A, C: salario función de B\n",
    "A = np.random.randint(20,60,200)  # edad\n",
    "B = np.clip((A - 20) + np.random.normal(0,2,200),0,None)  # experiencia\n",
    "C = 10 + 1.5 * B + np.random.normal(0,4,200)  # salario\n",
    "\n",
    "# Crear dataframe y ver correlaciones\n",
    "df_latent = pd.DataFrame({'edad':A, 'experiencia':B, 'salario':C})\n",
    "print(df_latent.corr())\n",
    "\n",
    "# Observación: edad y salario pueden correlacionar, pero la causalidad es experiencia -> salario\n"
   ]
  },
  {
   "cell_type": "markdown",
   "id": "893dbfa5",
   "metadata": {},
   "source": [
    "## Detección de outliers — métodos prácticos\n",
    "Mostraremos z-score y método IQR, y cómo documentar decisiones (eliminar o investigar)."
   ]
  },
  {
   "cell_type": "code",
   "execution_count": null,
   "id": "e1ecf472",
   "metadata": {},
   "outputs": [],
   "source": [
    "# Z-score method\n",
    "z_scores = np.abs(stats.zscore(df_sal['salario_kusd']))\n",
    "outliers_z = df_sal[z_scores > 3]\n",
    "\n",
    "# IQR method\n",
    "Q1 = df_sal['salario_kusd'].quantile(0.25)\n",
    "Q3 = df_sal['salario_kusd'].quantile(0.75)\n",
    "IQR = Q3 - Q1\n",
    "outliers_iqr = df_sal[(df_sal['salario_kusd'] < (Q1 - 1.5*IQR)) | (df_sal['salario_kusd'] > (Q3 + 1.5*IQR))]\n",
    "\n",
    "len(outliers_z), len(outliers_iqr), outliers_iqr.head()"
   ]
  },
  {
   "cell_type": "markdown",
   "id": "fe89cc7c",
   "metadata": {},
   "source": [
    "## Caso práctico — E-commerce: analizar ventas vs gasto en publicidad\n",
    "Generaremos un dataset de 24 meses con `visitas`, `gasto_pub` (kUSD), `ventas` (kUSD), `conversion_rate`.\n",
    "Ejemplos de análisis: mes con mayor eficiencia (ventas/gasto_pub), correlación visitas-ventas, ticket promedio."
   ]
  },
  {
   "cell_type": "code",
   "execution_count": null,
   "id": "a5a5499c",
   "metadata": {},
   "outputs": [],
   "source": [
    "# Generar dataset e-commerce\n",
    "np.random.seed(1)\n",
    "months = pd.date_range('2023-01-01', periods=24, freq='M')\n",
    "visitas = np.random.poisson(20000, 24) + np.linspace(0,5000,24).astype(int)\n",
    "gasto_pub = np.round(np.random.normal(30,8,24),1)  # kUSD\n",
    "conversion_rate = np.clip(0.01 + np.random.normal(0,0.002,24) + (gasto_pub-30)*0.0005, 0.005, 0.05)\n",
    "ventas = np.round(visitas * conversion_rate * 0.05,2)  # simplificación (en miles USD unitless scale)\n",
    "\n",
    "df_ecom = pd.DataFrame({'mes': months, 'visitas': visitas, 'gasto_pub_kusd': gasto_pub, 'conversion_rate': np.round(conversion_rate,4), 'ventas_kusd': ventas})\n",
    "df_ecom['eficiencia'] = (df_ecom['ventas_kusd'] / df_ecom['gasto_pub_kusd']).replace([np.inf, -np.inf], np.nan)\n",
    "\n",
    "df_ecom.head()"
   ]
  },
  {
   "cell_type": "code",
   "execution_count": null,
   "id": "068a53f0",
   "metadata": {},
   "outputs": [],
   "source": [
    "# Mes con mayor eficiencia\n",
    "best = df_ecom.loc[df_ecom['eficiencia'].idxmax()]\n",
    "best\n",
    "\n",
    "# Scatter visitas vs ventas\n",
    "plt.figure()\n",
    "plt.scatter(df_ecom['visitas'], df_ecom['ventas_kusd'])\n",
    "plt.xlabel('Visitas')\n",
    "plt.ylabel('Ventas (kUSD)')\n",
    "plt.title('Visitas vs Ventas')\n",
    "plt.show()\n",
    "\n",
    "# Correlación\n",
    "print('Correlación visitas-ventas:', df_ecom[['visitas','ventas_kusd']].corr().iloc[0,1])\n",
    "\n",
    "# Ticket promedio ejemplo: ventas / (asumamos # órdenes)\n",
    "ordenes = (df_ecom['visitas'] * df_ecom['conversion_rate']).round().astype(int)\n",
    "df_ecom['ticket_promedio_kusd'] = (df_ecom['ventas_kusd'] / ordenes).replace([np.inf, -np.inf], np.nan)\n",
    "\n",
    "plt.figure()\n",
    "plt.plot(df_ecom['mes'], df_ecom['ticket_promedio_kusd'], marker='o')\n",
    "plt.xticks(rotation=45)\n",
    "plt.title('Ticket promedio (kUSD) por mes')\n",
    "plt.ylabel('Ticket promedio (kUSD)')\n",
    "plt.show()\n",
    "\n",
    "df_ecom[['mes','visitas','gasto_pub_kusd','ventas_kusd','eficiencia','ticket_promedio_kusd']].head()"
   ]
  },
  {
   "cell_type": "markdown",
   "id": "81f2f503",
   "metadata": {},
   "source": [
    "## Ejercicios para el aula\n",
    "1. Calcular y comparar media/mediana por `nivel_educativo` en el dataset de salarios.\n",
    "2. Identificar outliers por departamento y justificar si se eliminan o no.\n",
    "3. En el caso e-commerce: encontrar el mes con mayor crecimiento de ventas vs mes anterior y proponer hipótesis.\n",
    "4. Diseñar un pequeño experimento para comprobar causalidad entre gasto en publicidad y ventas (qué datos recolectarías)."
   ]
  },
  {
   "cell_type": "code",
   "execution_count": null,
   "id": "4b22b5f3",
   "metadata": {},
   "outputs": [],
   "source": [
    "# Guardar datasets para uso en clase (opcional)\n",
    "df_sal.to_csv('/mnt/data/salarios_ejemplo.csv', index=False)\n",
    "df_ecom.to_csv('/mnt/data/ecommerce_ejemplo.csv', index=False)\n",
    "\n",
    "print('Archivos guardados:')\n",
    "print('/mnt/data/salarios_ejemplo.csv')\n",
    "print('/mnt/data/ecommerce_ejemplo.csv')"
   ]
  }
 ],
 "metadata": {},
 "nbformat": 4,
 "nbformat_minor": 5
}
