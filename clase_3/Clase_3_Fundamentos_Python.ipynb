{
  "cells": [
    {
      "cell_type": "markdown",
      "metadata": {},
      "source": [
        "# Clase 3 - Fundamentos de IA con Python\n",
        "## Introducción a Python\n",
        "\n",
        "En este cuaderno exploraremos los conceptos básicos de Python vistos en la clase, con ejemplos prácticos."
      ]
    },
    {
      "cell_type": "markdown",
      "metadata": {},
      "source": [
        "## 1. Variables y tipos de datos\n",
        "Las variables son contenedores de valores. En Python no es necesario declarar el tipo, se asigna dinámicamente."
      ]
    },
    {
      "cell_type": "code",
      "execution_count": 15,
      "metadata": {},
      "outputs": [
        {
          "name": "stdout",
          "output_type": "stream",
          "text": [
            "Ana <class 'str'>\n",
            "25 <class 'int'>\n",
            "1.68 <class 'float'>\n",
            "True <class 'bool'>\n"
          ]
        }
      ],
      "source": [
        "# Ejemplos de variables y tipos básicos\n",
        "nombre = \"Ana\"        # str\n",
        "edad = 25            # int\n",
        "altura = 1.68        # float\n",
        "es_estudiante = True # bool\n",
        "\n",
        "print(nombre, type(nombre))\n",
        "print(edad, type(edad))\n",
        "print(altura, type(altura))\n",
        "print(es_estudiante, type(es_estudiante))"
      ]
    },
    {
      "cell_type": "markdown",
      "id": "39ce632a",
      "metadata": {},
      "source": [
        "## 1.1 Reglas en variables\n",
        "\n",
        "- Usar snake_case → palabras separadas con guion bajo.\n",
        "- No empezar con números → incorrecto: 2edad = 25.\n",
        "- Usar nombres descriptivos y significativos → mejor altura_metros que a1.\n",
        "- Distingue mayúsculas de minúsculas → Edad y edad son diferentes variables.\n",
        "- No usar palabras reservadas de Python (como for, if, class, def)."
      ]
    },
    {
      "cell_type": "code",
      "execution_count": 16,
      "id": "865b5b99",
      "metadata": {},
      "outputs": [
        {
          "name": "stdout",
          "output_type": "stream",
          "text": [
            "Error 1 (palabra reservada): invalid syntax (<string>, line 1)\n",
            "Error 2 (empieza con número): invalid decimal literal (<string>, line 1)\n",
            "Error 3 (guion medio en el nombre): cannot assign to expression here. Maybe you meant '==' instead of '='? (<string>, line 1)\n",
            "\n",
            "Ejemplos correctos:\n",
            "nombre: Luis\n",
            "nombre_completo: Luis Perez\n",
            "nombre2: Luis\n",
            "NombreCompleto: Luis Perez\n"
          ]
        }
      ],
      "source": [
        "# Ejemplos incorrectos (mostrando errores con exec)\n",
        "\n",
        "try:\n",
        "    exec(\"class = 'Python'\")\n",
        "except SyntaxError as e:\n",
        "    print(\"Error 1 (palabra reservada):\", e)\n",
        "\n",
        "try:\n",
        "    exec(\"2nombre = 'Luis'\")\n",
        "except SyntaxError as e:\n",
        "    print(\"Error 2 (empieza con número):\", e)\n",
        "\n",
        "try:\n",
        "    exec(\"nombre-completo = 'Luis Perez'\")\n",
        "except SyntaxError as e:\n",
        "    print(\"Error 3 (guion medio en el nombre):\", e)\n",
        "\n",
        "# Ejemplos correctos\n",
        "nombre = \"Luis\"\n",
        "nombre_completo = \"Luis Perez\"\n",
        "nombre2 = \"Luis\"\n",
        "NombreCompleto = \"Luis Perez\"\n",
        "\n",
        "print(\"\\nEjemplos correctos:\")\n",
        "print(\"nombre:\", nombre)\n",
        "print(\"nombre_completo:\", nombre_completo)\n",
        "print(\"nombre2:\", nombre2)\n",
        "print(\"NombreCompleto:\", NombreCompleto)\n"
      ]
    },
    {
      "cell_type": "markdown",
      "metadata": {},
      "source": [
        "## 2. Conversión de tipos\n",
        "Podemos convertir explícitamente los valores con *casting*."
      ]
    },
    {
      "cell_type": "code",
      "execution_count": 17,
      "metadata": {},
      "outputs": [
        {
          "name": "stdout",
          "output_type": "stream",
          "text": [
            "5 <class 'str'>\n",
            "5.0 <class 'float'>\n",
            "3.14\n"
          ]
        }
      ],
      "source": [
        "numero = 5\n",
        "texto = str(numero)\n",
        "decimal = float(numero)\n",
        "\n",
        "print(texto, type(texto))\n",
        "print(decimal, type(decimal))\n",
        "\n",
        "# Redondeo\n",
        "pi = 3.14159\n",
        "print(round(pi, 2))"
      ]
    },
    {
      "cell_type": "markdown",
      "id": "8cf490dc",
      "metadata": {},
      "source": [
        "### 2.1 Errores de conversión\n",
        "\n",
        "No podemos combinar operaciones con diferentes tipos de variable, por ejemplo str + int"
      ]
    },
    {
      "cell_type": "code",
      "execution_count": 18,
      "id": "049406cb",
      "metadata": {},
      "outputs": [
        {
          "name": "stdout",
          "output_type": "stream",
          "text": [
            "25 <class 'str'>\n",
            "25 <class 'int'>\n",
            " Error al sumar int y str: unsupported operand type(s) for +: 'int' and 'str'\n"
          ]
        }
      ],
      "source": [
        "# Ejemplo de tipado dinámico en Python\n",
        "\n",
        "# x comienza como cadena\n",
        "x = \"25\"\n",
        "print(x, type(x))   # str\n",
        "\n",
        "# Convertimos a entero\n",
        "x = int(x)\n",
        "print(x, type(x))   # int\n",
        "\n",
        "# Intento incorrecto: sumar número con texto\n",
        "y = \"10\"\n",
        "try:\n",
        "    resultado = x + y   # Esto da error porque int + str no es válido\n",
        "    print(resultado)\n",
        "except TypeError as e:\n",
        "    print(\" Error al sumar int y str:\", e)\n"
      ]
    },
    {
      "cell_type": "markdown",
      "metadata": {},
      "source": [
        "## 3. Operadores esenciales\n",
        "Python permite operaciones aritméticas, de comparación, lógicas y más."
      ]
    },
    {
      "cell_type": "markdown",
      "id": "1e12200b",
      "metadata": {},
      "source": [
        "## 3.1 Artiméticos\n",
        "\n",
        "Estos operadores permiten realizar cálculos matemáticos básicos en Python:\n",
        "\n",
        "- **Suma (`+`)**: agrega dos valores.  \n",
        "- **Resta (`-`)**: resta el segundo valor al primero.  \n",
        "- **Multiplicación (`*`)**: multiplica dos valores.  \n",
        "- **División (`/`)**: divide dos valores y devuelve un número decimal (*float*).  \n",
        "- **División entera (`//`)**: divide pero devuelve solo la parte entera (descarta decimales).  \n",
        "- **Módulo (`%`)**: devuelve el resto de la división.  \n",
        "- **Exponenciación (`**`)**: eleva un número a la potencia de otro. "
      ]
    },
    {
      "cell_type": "code",
      "execution_count": 19,
      "metadata": {},
      "outputs": [
        {
          "name": "stdout",
          "output_type": "stream",
          "text": [
            "Suma (a + b): 13\n",
            "Resta (a - b): 7\n",
            "Multiplicación (a * b): 30\n",
            "División (a / b): 3.3333333333333335\n",
            "División entera (a // b): 3\n",
            "Módulo o resto (a % b): 1\n",
            "Exponenciación (a ** b): 1000\n"
          ]
        }
      ],
      "source": [
        "# --------------------------\n",
        "# OPERADORES ARITMÉTICOS\n",
        "# --------------------------\n",
        "a, b = 10, 3   # Definimos dos números\n",
        "\n",
        "print(\"Suma (a + b):\", a + b)        # 10 + 3 = 13\n",
        "print(\"Resta (a - b):\", a - b)       # 10 - 3 = 7\n",
        "print(\"Multiplicación (a * b):\", a * b)  # 10 * 3 = 30\n",
        "print(\"División (a / b):\", a / b)    # 10 / 3 = 3.333...\n",
        "print(\"División entera (a // b):\", a // b) # 10 // 3 = 3 (sin decimales)\n",
        "print(\"Módulo o resto (a % b):\", a % b)   # 10 % 3 = 1 (resto de la división)\n",
        "print(\"Exponenciación (a ** b):\", a ** b) # 10 ** 3 = 1000\n"
      ]
    },
    {
      "cell_type": "markdown",
      "id": "281c30db",
      "metadata": {},
      "source": [
        "## 3.2 Comparación\n",
        "\n",
        "Sirven para comparar valores. Siempre devuelven un valor **booleano** (`True` o `False`).\n",
        "\n",
        "- **Igualdad (`==`)**: comprueba si dos valores son iguales.  \n",
        "- **Diferente (`!=`)**: comprueba si dos valores son distintos.  \n",
        "- **Mayor (`>`)**: comprueba si el primer valor es mayor que el segundo.  \n",
        "- **Menor o igual (`<=`)**: comprueba si el primer valor es menor o igual que el segundo.  "
      ]
    },
    {
      "cell_type": "code",
      "execution_count": 20,
      "id": "707378e6",
      "metadata": {},
      "outputs": [
        {
          "name": "stdout",
          "output_type": "stream",
          "text": [
            "¿a es igual a b? (a == b): False\n",
            "¿a es diferente de b? (a != b): True\n",
            "¿a es mayor que b? (a > b): True\n",
            "¿a es menor o igual a b? (a <= b): False\n"
          ]
        }
      ],
      "source": [
        "# --------------------------\n",
        "# OPERADORES DE COMPARACIÓN\n",
        "# --------------------------\n",
        "# Devuelven un valor booleano (True o False)\n",
        "print(\"¿a es igual a b? (a == b):\", a == b)   # False\n",
        "print(\"¿a es diferente de b? (a != b):\", a != b) # True\n",
        "print(\"¿a es mayor que b? (a > b):\", a > b)   # True\n",
        "print(\"¿a es menor o igual a b? (a <= b):\", a <= b) # False\n"
      ]
    },
    {
      "cell_type": "markdown",
      "id": "927cf46a",
      "metadata": {},
      "source": [
        "## 3.3 Lógicos\n",
        "\n",
        "Se utilizan para combinar condiciones y trabajar con valores booleanos.\n",
        "\n",
        "- **AND (`and`)**: devuelve `True` solo si ambas condiciones son verdaderas.  \n",
        "- **OR (`or`)**: devuelve `True` si al menos una condición es verdadera.  \n",
        "- **NOT (`not`)**: invierte el valor lógico (de `True` a `False`, o viceversa).  "
      ]
    },
    {
      "cell_type": "code",
      "execution_count": 21,
      "id": "d46397ca",
      "metadata": {},
      "outputs": [
        {
          "name": "stdout",
          "output_type": "stream",
          "text": [
            "¿a > 5 y b < 5? -> True\n",
            "¿a < 5 o b < 5? -> True\n",
            "¿No es cierto que a == b? -> True\n"
          ]
        }
      ],
      "source": [
        "# --------------------------\n",
        "# OPERADORES LÓGICOS\n",
        "# --------------------------\n",
        "# Combinan condiciones y devuelven True o False\n",
        "\n",
        "# 'and': ambas condiciones deben cumplirse\n",
        "print(\"¿a > 5 y b < 5? ->\", (a > 5) and (b < 5)) # True and True = True\n",
        "\n",
        "# 'or': basta con que una condición sea verdadera\n",
        "print(\"¿a < 5 o b < 5? ->\", (a < 5) or (b < 5))  # False or True = True\n",
        "\n",
        "# 'not': invierte el valor lógico\n",
        "print(\"¿No es cierto que a == b? ->\", not (a == b)) # not(False) = True\n"
      ]
    },
    {
      "cell_type": "markdown",
      "metadata": {},
      "source": [
        "## 4. Texto y formato\n",
        "Las cadenas permiten varias operaciones de formato y manipulación."
      ]
    },
    {
      "cell_type": "code",
      "execution_count": 22,
      "metadata": {},
      "outputs": [
        {
          "name": "stdout",
          "output_type": "stream",
          "text": [
            " hola mundo \n",
            " HOLA MUNDO \n",
            "Hola Mundo\n",
            " Hola Python \n",
            "Hola, me llamo Ana y tengo 25 años.\n",
            "Pyt\n",
            "nohtyP\n"
          ]
        }
      ],
      "source": [
        "mensaje = \" Hola Mundo \"\n",
        "print(mensaje.lower())\n",
        "print(mensaje.upper())\n",
        "print(mensaje.strip())\n",
        "print(mensaje.replace(\"Mundo\", \"Python\"))\n",
        "\n",
        "# Interpolación con f-strings\n",
        "nombre = \"Ana\"\n",
        "edad = 25\n",
        "print(f\"Hola, me llamo {nombre} y tengo {edad} años.\")\n",
        "\n",
        "# Slicing\n",
        "texto = \"Python\"\n",
        "print(texto[0:3])  # Pyt\n",
        "print(texto[::-1]) # nohytP"
      ]
    },
    {
      "cell_type": "markdown",
      "metadata": {},
      "source": [
        "## 5. Entrada y salida\n",
        "Podemos interactuar con el usuario mediante `input()` y mostrar información con `print()`."
      ]
    },
    {
      "cell_type": "code",
      "execution_count": 23,
      "metadata": {},
      "outputs": [
        {
          "name": "stdout",
          "output_type": "stream",
          "text": [
            "Hola Alex\n"
          ]
        }
      ],
      "source": [
        "# Solicitar entrada al usuario\n",
        "nombre = input(\"¿Cómo te llamas? \")\n",
        "print(\"Hola\", nombre)\n",
        "\n",
        "# Nota: Puede comentar esta línea para evitar bloqueos en entornos automáticos."
      ]
    },
    {
      "cell_type": "markdown",
      "metadata": {},
      "source": [
        "## 6. Colecciones en Python\n",
        "### Listas\n",
        "\n",
        "Las **listas** son estructuras de datos que permiten almacenar múltiples elementos en una sola variable.  \n",
        "Se caracterizan por ser:  \n",
        "\n",
        "- **Ordenadas** → los elementos mantienen el orden de inserción.  \n",
        "- **Modificables** → se pueden cambiar, agregar o eliminar elementos.  \n",
        "- **Admiten duplicados** → pueden contener valores repetidos.  \n",
        "- **Indexadas** → cada elemento tiene una posición (índice), que empieza en `0`.  \n"
      ]
    },
    {
      "cell_type": "code",
      "execution_count": 24,
      "metadata": {},
      "outputs": [
        {
          "name": "stdout",
          "output_type": "stream",
          "text": [
            "Lista inicial: ['manzana', 'banana', 'cereza']\n",
            "Primer elemento (frutas[0]): manzana\n",
            "Después de append('naranja'): ['manzana', 'banana', 'cereza', 'naranja']\n",
            "Después de cambiar frutas[1] a 'pera': ['manzana', 'pera', 'cereza', 'naranja']\n",
            "Sublista frutas[1:3]: ['pera', 'cereza']\n",
            "Lista invertida con frutas[::-1]: ['naranja', 'cereza', 'pera', 'manzana']\n"
          ]
        }
      ],
      "source": [
        "# ============================\n",
        "# LISTAS EN PYTHON\n",
        "# ============================\n",
        "\n",
        "# Ejemplo 1: Crear y acceder a elementos\n",
        "frutas = [\"manzana\", \"banana\", \"cereza\"]\n",
        "print(\"Lista inicial:\", frutas)\n",
        "print(\"Primer elemento (frutas[0]):\", frutas[0])\n",
        "\n",
        "# Ejemplo 2: Agregar elementos con append()\n",
        "frutas.append(\"naranja\")\n",
        "print(\"Después de append('naranja'):\", frutas)\n",
        "\n",
        "# Ejemplo 3: Modificar un elemento por índice\n",
        "frutas[1] = \"pera\"\n",
        "print(\"Después de cambiar frutas[1] a 'pera':\", frutas)\n",
        "\n",
        "# Ejemplo 4: Slicing (sublistas)\n",
        "print(\"Sublista frutas[1:3]:\", frutas[1:3])\n",
        "print(\"Lista invertida con frutas[::-1]:\", frutas[::-1])\n",
        "\n",
        "\n"
      ]
    },
    {
      "cell_type": "code",
      "execution_count": 25,
      "id": "aa169f0f",
      "metadata": {},
      "outputs": [
        {
          "name": "stdout",
          "output_type": "stream",
          "text": [
            "\n",
            "Lista inicial: ['manzana', 'banana']\n",
            "Después de append('pera'): ['manzana', 'banana', 'pera']\n",
            "Después de insert(1, 'kiwi'): ['manzana', 'kiwi', 'banana', 'pera']\n",
            "\n",
            "Lista inicial: ['manzana', 'banana', 'cereza']\n",
            "Después de remove('banana'): ['manzana', 'cereza']\n",
            "Después de pop(0): ['cereza'] Elemento eliminado: manzana\n",
            "Después de clear(): []\n",
            "\n",
            "Lista inicial: ['manzana', 'banana', 'cereza', 'banana']\n",
            "Índice de la primera 'banana': 1\n",
            "Cantidad de veces que aparece 'banana': 2\n",
            "\n",
            "Lista de números: [3, 1, 4, 1, 5, 9]\n",
            "Después de sort() ascendente: [1, 1, 3, 4, 5, 9]\n",
            "Después de sort(reverse=True) descendente: [9, 5, 4, 3, 1, 1]\n",
            "Lista original de letras: ['c', 'a', 'b']\n",
            "sorted(letras) (nueva lista ordenada): ['a', 'b', 'c']\n",
            "Lista original no cambia: ['c', 'a', 'b']\n",
            "\n",
            "Lista de frutas: ['manzana', 'banana', 'cereza']\n",
            "Longitud de la lista con len(frutas): 3\n",
            "¿'banana' está en frutas?: True\n",
            "¿'pera' NO está en frutas?: True\n",
            "Copia de la lista con copy(): ['manzana', 'banana', 'cereza']\n"
          ]
        }
      ],
      "source": [
        "# ----------------------------\n",
        "# MÉTODOS COMUNES\n",
        "# ----------------------------\n",
        "\n",
        "# Ejemplo 5: Añadir elementos (append e insert)\n",
        "frutas = [\"manzana\", \"banana\"]\n",
        "print(\"\\nLista inicial:\", frutas)\n",
        "\n",
        "frutas.append(\"pera\")\n",
        "print(\"Después de append('pera'):\", frutas)\n",
        "\n",
        "frutas.insert(1, \"kiwi\")\n",
        "print(\"Después de insert(1, 'kiwi'):\", frutas)\n",
        "\n",
        "# Ejemplo 6: Eliminar elementos (remove, pop, clear)\n",
        "frutas = [\"manzana\", \"banana\", \"cereza\"]\n",
        "print(\"\\nLista inicial:\", frutas)\n",
        "\n",
        "frutas.remove(\"banana\")\n",
        "print(\"Después de remove('banana'):\", frutas)\n",
        "\n",
        "eliminado = frutas.pop(0)\n",
        "print(\"Después de pop(0):\", frutas, \"Elemento eliminado:\", eliminado)\n",
        "\n",
        "frutas.clear()\n",
        "print(\"Después de clear():\", frutas)\n",
        "\n",
        "# Ejemplo 7: Buscar y contar elementos (index, count)\n",
        "frutas = [\"manzana\", \"banana\", \"cereza\", \"banana\"]\n",
        "print(\"\\nLista inicial:\", frutas)\n",
        "\n",
        "print(\"Índice de la primera 'banana':\", frutas.index(\"banana\"))\n",
        "print(\"Cantidad de veces que aparece 'banana':\", frutas.count(\"banana\"))\n",
        "\n",
        "# Ejemplo 8: Ordenar listas (sort, sorted)\n",
        "numeros = [3, 1, 4, 1, 5, 9]\n",
        "print(\"\\nLista de números:\", numeros)\n",
        "\n",
        "numeros.sort()\n",
        "print(\"Después de sort() ascendente:\", numeros)\n",
        "\n",
        "numeros.sort(reverse=True)\n",
        "print(\"Después de sort(reverse=True) descendente:\", numeros)\n",
        "\n",
        "letras = [\"c\", \"a\", \"b\"]\n",
        "print(\"Lista original de letras:\", letras)\n",
        "print(\"sorted(letras) (nueva lista ordenada):\", sorted(letras))\n",
        "print(\"Lista original no cambia:\", letras)\n",
        "\n",
        "# Ejemplo 9: Otras utilidades\n",
        "frutas = [\"manzana\", \"banana\", \"cereza\"]\n",
        "print(\"\\nLista de frutas:\", frutas)\n",
        "\n",
        "print(\"Longitud de la lista con len(frutas):\", len(frutas))\n",
        "print(\"¿'banana' está en frutas?:\", \"banana\" in frutas)\n",
        "print(\"¿'pera' NO está en frutas?:\", \"pera\" not in frutas)\n",
        "\n",
        "copia = frutas.copy()\n",
        "print(\"Copia de la lista con copy():\", copia)"
      ]
    },
    {
      "cell_type": "markdown",
      "metadata": {},
      "source": [
        "### Tuplas\n",
        "\n",
        "Las **tuplas** son estructuras de datos similares a las listas, pero con la diferencia de que son **inmutables**, es decir, **no se pueden modificar** después de crearse (no se pueden agregar, eliminar ni cambiar elementos).\n",
        "\n",
        "Características principales:\n",
        "- **Ordenadas**: mantienen el orden de los elementos.  \n",
        "- **Inmutables**: no permiten modificaciones después de creadas.  \n",
        "- **Admiten duplicados**.  \n",
        "- **Indexadas**: cada elemento tiene un índice que comienza en `0`.  \n",
        "\n",
        "### Métodos principales de las tuplas\n",
        "Las tuplas tienen menos métodos que las listas debido a su inmutabilidad:\n",
        "\n",
        "- **count(valor)** → devuelve cuántas veces aparece un valor.  \n",
        "- **index(valor)** → devuelve el índice de la primera aparición de un valor.  \n",
        "\n",
        "Además, como son secuencias, se pueden usar funciones integradas como:  \n",
        "- `len(tupla)` → longitud.  \n",
        "- `max(tupla)`, `min(tupla)` → máximo y mínimo.  \n",
        "- `sum(tupla)` → suma de los valores (si son numéricos).  \n",
        "- `in` / `not in` → verificar pertenencia.  "
      ]
    },
    {
      "cell_type": "code",
      "execution_count": 26,
      "metadata": {},
      "outputs": [
        {
          "name": "stdout",
          "output_type": "stream",
          "text": [
            "Tupla inicial: (10, 20, 30)\n",
            "Primer elemento (coordenadas[0]): 10\n",
            "Último elemento (coordenadas[-1]): 30\n",
            "Las tuplas son inmutables, no se pueden cambiar elementos.\n",
            "\n",
            "Tupla con diferentes tipos de datos: ('texto', 42, 3.14, True)\n",
            "Nombre: Ana\n",
            "Edad: 25\n",
            "Ciudad: Bogotá\n",
            "\n",
            "Tupla de colores: ('rojo', 'azul', 'rojo', 'verde', 'rojo')\n",
            "Número de veces que aparece 'rojo': 3\n",
            "Índice de la primera aparición de 'verde': 3\n",
            "\n",
            "Tupla de números: (5, 2, 9, 1, 5)\n",
            "Longitud con len(): 5\n",
            "Máximo con max(): 9\n",
            "Mínimo con min(): 1\n",
            "Suma con sum(): 22\n",
            "\n",
            "¿Está el número 9 en la tupla? True\n",
            "¿Está el número 7 en la tupla? False\n",
            "\n",
            "Lista original: [1, 2, 3]\n",
            "Convertida a tupla: (1, 2, 3)\n"
          ]
        }
      ],
      "source": [
        "\n",
        "# ============================\n",
        "# TUPLAS EN PYTHON\n",
        "# ============================\n",
        "\n",
        "# Ejemplo 1: Crear y acceder a elementos\n",
        "coordenadas = (10, 20, 30)\n",
        "print(\"Tupla inicial:\", coordenadas)\n",
        "print(\"Primer elemento (coordenadas[0]):\", coordenadas[0])\n",
        "print(\"Último elemento (coordenadas[-1]):\", coordenadas[-1])\n",
        "\n",
        "# Ejemplo 2: Inmutabilidad\n",
        "# coordenadas[0] = 99  #  Esto daría error porque las tuplas no se pueden modificar\n",
        "print(\"Las tuplas son inmutables, no se pueden cambiar elementos.\")\n",
        "\n",
        "# Ejemplo 3: Tupla con diferentes tipos de datos\n",
        "mi_tupla = (\"texto\", 42, 3.14, True)\n",
        "print(\"\\nTupla con diferentes tipos de datos:\", mi_tupla)\n",
        "\n",
        "# Ejemplo 4: Desempaquetado de tupla\n",
        "persona = (\"Ana\", 25, \"Bogotá\")\n",
        "nombre, edad, ciudad = persona\n",
        "print(\"Nombre:\", nombre)\n",
        "print(\"Edad:\", edad)\n",
        "print(\"Ciudad:\", ciudad)\n",
        "\n",
        "# Ejemplo 5: Métodos count() e index()\n",
        "colores = (\"rojo\", \"azul\", \"rojo\", \"verde\", \"rojo\")\n",
        "print(\"\\nTupla de colores:\", colores)\n",
        "print(\"Número de veces que aparece 'rojo':\", colores.count(\"rojo\"))\n",
        "print(\"Índice de la primera aparición de 'verde':\", colores.index(\"verde\"))\n",
        "\n",
        "# Ejemplo 6: Funciones integradas con tuplas\n",
        "numeros = (5, 2, 9, 1, 5)\n",
        "print(\"\\nTupla de números:\", numeros)\n",
        "print(\"Longitud con len():\", len(numeros))\n",
        "print(\"Máximo con max():\", max(numeros))\n",
        "print(\"Mínimo con min():\", min(numeros))\n",
        "print(\"Suma con sum():\", sum(numeros))\n",
        "\n",
        "# Ejemplo 7: Verificar pertenencia\n",
        "print(\"\\n¿Está el número 9 en la tupla?\", 9 in numeros)\n",
        "print(\"¿Está el número 7 en la tupla?\", 7 in numeros)\n",
        "\n",
        "# Ejemplo 8: Conversión de lista a tupla\n",
        "lista = [1, 2, 3]\n",
        "tupla_convertida = tuple(lista)\n",
        "print(\"\\nLista original:\", lista)\n",
        "print(\"Convertida a tupla:\", tupla_convertida)\n"
      ]
    },
    {
      "cell_type": "markdown",
      "metadata": {},
      "source": [
        "### Sets\n",
        "\n",
        "Un **set** o conjunto es una colección de elementos que se caracteriza por:\n",
        "\n",
        "- **No ordenada** → los elementos no tienen índice ni posición fija.  \n",
        "- **No admite duplicados** → si agregas un valor repetido, se guarda solo una vez.  \n",
        "- **Modificable** → se pueden añadir o eliminar elementos.  \n",
        "- **Muy eficientes** para comprobar si un valor existe en el conjunto.  \n",
        "\n",
        "### Métodos principales de los sets\n",
        "\n",
        "- **add(valor)** → agrega un elemento.  \n",
        "- **update([valores])** → agrega varios elementos.  \n",
        "- **remove(valor)** → elimina un elemento (error si no existe).  \n",
        "- **discard(valor)** → elimina un elemento (no da error si no existe).  \n",
        "- **pop()** → elimina y devuelve un elemento aleatorio.  \n",
        "- **clear()** → elimina todos los elementos.  \n",
        "- **union(set2)** → devuelve un nuevo set con todos los elementos de ambos.  \n",
        "- **intersection(set2)** → devuelve los elementos comunes.  \n",
        "- **difference(set2)** → devuelve los elementos que están en el primero pero no en el segundo.  \n",
        "- **symmetric_difference(set2)** → devuelve los elementos que están en un set o en el otro, pero no en ambos.  \n",
        "\n",
        "### Funciones integradas\n",
        "- `len(set)` → número de elementos.  \n",
        "- `in` / `not in` → verificar pertenencia. "
      ]
    },
    {
      "cell_type": "code",
      "execution_count": 27,
      "metadata": {},
      "outputs": [
        {
          "name": "stdout",
          "output_type": "stream",
          "text": [
            "Set inicial (sin duplicados): {1, 2, 3, 4}\n",
            "Después de add(5): {1, 2, 3, 4, 5}\n",
            "Después de update([6, 7, 8]): {1, 2, 3, 4, 5, 6, 7, 8}\n",
            "Después de remove(2): {1, 3, 4, 5, 6, 7, 8}\n",
            "Después de discard(10) (no hace nada si no existe): {1, 3, 4, 5, 6, 7, 8}\n",
            "Después de pop(), eliminado: 1\n",
            "Set ahora: {3, 4, 5, 6, 7, 8}\n",
            "Después de clear(), set vacío: set()\n",
            "\n",
            "Set A: {1, 2, 3, 4}\n",
            "Set B: {3, 4, 5, 6}\n",
            "Unión A ∪ B: {1, 2, 3, 4, 5, 6}\n",
            "Intersección A ∩ B: {3, 4}\n",
            "Diferencia A - B: {1, 2}\n",
            "Diferencia simétrica A Δ B: {1, 2, 5, 6}\n",
            "\n",
            "¿3 está en A? True\n",
            "¿7 no está en A? True\n",
            "\n",
            "Lista original: [1, 2, 2, 3, 4, 4]\n",
            "Convertida a set (sin duplicados): {1, 2, 3, 4}\n"
          ]
        }
      ],
      "source": [
        "# ============================\n",
        "# SETS EN PYTHON\n",
        "# ============================\n",
        "\n",
        "# Ejemplo 1: Crear un set y eliminar duplicados automáticamente\n",
        "numeros = {1, 2, 3, 3, 4}\n",
        "print(\"Set inicial (sin duplicados):\", numeros)\n",
        "\n",
        "# Ejemplo 2: Agregar elementos\n",
        "numeros.add(5)\n",
        "print(\"Después de add(5):\", numeros)\n",
        "\n",
        "numeros.update([6, 7, 8])\n",
        "print(\"Después de update([6, 7, 8]):\", numeros)\n",
        "\n",
        "# Ejemplo 3: Eliminar elementos\n",
        "numeros.remove(2)\n",
        "print(\"Después de remove(2):\", numeros)\n",
        "\n",
        "numeros.discard(10)  # No existe, pero no da error\n",
        "print(\"Después de discard(10) (no hace nada si no existe):\", numeros)\n",
        "\n",
        "eliminado = numeros.pop()\n",
        "print(\"Después de pop(), eliminado:\", eliminado)\n",
        "print(\"Set ahora:\", numeros)\n",
        "\n",
        "numeros.clear()\n",
        "print(\"Después de clear(), set vacío:\", numeros)\n",
        "\n",
        "# Ejemplo 4: Operaciones entre sets\n",
        "a = {1, 2, 3, 4}\n",
        "b = {3, 4, 5, 6}\n",
        "\n",
        "print(\"\\nSet A:\", a)\n",
        "print(\"Set B:\", b)\n",
        "\n",
        "print(\"Unión A ∪ B:\", a.union(b))\n",
        "print(\"Intersección A ∩ B:\", a.intersection(b))\n",
        "print(\"Diferencia A - B:\", a.difference(b))\n",
        "print(\"Diferencia simétrica A Δ B:\", a.symmetric_difference(b))\n",
        "\n",
        "# Ejemplo 5: Pertenencia\n",
        "print(\"\\n¿3 está en A?\", 3 in a)\n",
        "print(\"¿7 no está en A?\", 7 not in a)\n",
        "\n",
        "# Ejemplo 6: Conversión de lista a set\n",
        "lista = [1, 2, 2, 3, 4, 4]\n",
        "conjunto = set(lista)\n",
        "print(\"\\nLista original:\", lista)\n",
        "print(\"Convertida a set (sin duplicados):\", conjunto)"
      ]
    },
    {
      "cell_type": "markdown",
      "metadata": {},
      "source": [
        "### Diccionarios\n",
        "\n",
        "Un **diccionario** es una colección de datos que almacena **pares clave-valor**.  \n",
        "Cada clave debe ser **única** y se asocia a un valor.  \n",
        "\n",
        "Características principales:\n",
        "- **Ordenados** (desde Python 3.7).  \n",
        "- **Mutables** → se pueden modificar, agregar o eliminar elementos.  \n",
        "- **Claves únicas** → no puede haber claves duplicadas.  \n",
        "- **Acceso rápido** a los valores a través de su clave.  \n",
        "\n",
        "### Métodos principales de los diccionarios\n",
        "\n",
        "- **get(clave, valor_defecto)** → obtiene el valor de una clave (si no existe devuelve un valor por defecto).  \n",
        "- **keys()** → devuelve todas las claves.  \n",
        "- **values()** → devuelve todos los valores.  \n",
        "- **items()** → devuelve pares (clave, valor).  \n",
        "- **update({clave: valor})** → agrega o actualiza elementos.  \n",
        "- **pop(clave)** → elimina un elemento por clave.  \n",
        "- **popitem()** → elimina el último par clave-valor.  \n",
        "- **clear()** → elimina todos los elementos.  \n",
        "\n",
        "### Funciones integradas\n",
        "- `len(diccionario)` → número de elementos.  \n",
        "- `in` / `not in` → verificar si una clave existe en el diccionario.  "
      ]
    },
    {
      "cell_type": "code",
      "execution_count": 28,
      "metadata": {},
      "outputs": [
        {
          "name": "stdout",
          "output_type": "stream",
          "text": [
            "Diccionario inicial: {'nombre': 'Ana', 'edad': 25, 'ciudad': 'Bogotá'}\n",
            "Acceder a persona['nombre']: Ana\n",
            "Acceder con get('edad'): 25\n",
            "Acceder con get('profesion', 'No existe'): No existe\n",
            "Después de modificar edad: {'nombre': 'Ana', 'edad': 26, 'ciudad': 'Bogotá'}\n",
            "Después de agregar profesion: {'nombre': 'Ana', 'edad': 26, 'ciudad': 'Bogotá', 'profesion': 'Ingeniera'}\n",
            "Después de pop('ciudad'): {'nombre': 'Ana', 'edad': 26, 'profesion': 'Ingeniera'} Eliminado: Bogotá\n",
            "Después de popitem(): {'nombre': 'Ana', 'edad': 26} Último eliminado: ('profesion', 'Ingeniera')\n",
            "\n",
            "Claves con keys(): dict_keys(['nombre', 'edad', 'profesion'])\n",
            "Valores con values(): dict_values(['Ana', 26, 'Ingeniera'])\n",
            "Pares con items(): dict_items([('nombre', 'Ana'), ('edad', 26), ('profesion', 'Ingeniera')])\n",
            "Después de update({'edad': 27, 'ciudad': 'Medellín'}): {'nombre': 'Ana', 'edad': 27, 'profesion': 'Ingeniera', 'ciudad': 'Medellín'}\n",
            "\n",
            "Recorrer solo claves:\n",
            "nombre\n",
            "edad\n",
            "profesion\n",
            "ciudad\n"
          ]
        }
      ],
      "source": [
        "# ============================\n",
        "# DICCIONARIOS EN PYTHON\n",
        "# ============================\n",
        "\n",
        "# Ejemplo 1: Crear y acceder a valores\n",
        "persona = {\"nombre\": \"Ana\", \"edad\": 25, \"ciudad\": \"Bogotá\"}\n",
        "print(\"Diccionario inicial:\", persona)\n",
        "print(\"Acceder a persona['nombre']:\", persona[\"nombre\"])\n",
        "\n",
        "# Ejemplo 2: Usar get() para acceder de forma segura\n",
        "print(\"Acceder con get('edad'):\", persona.get(\"edad\"))\n",
        "print(\"Acceder con get('profesion', 'No existe'):\", persona.get(\"profesion\", \"No existe\"))\n",
        "\n",
        "# Ejemplo 3: Modificar valores\n",
        "persona[\"edad\"] = 26\n",
        "print(\"Después de modificar edad:\", persona)\n",
        "\n",
        "# Ejemplo 4: Agregar nuevos pares clave-valor\n",
        "persona[\"profesion\"] = \"Ingeniera\"\n",
        "print(\"Después de agregar profesion:\", persona)\n",
        "\n",
        "# Ejemplo 5: Eliminar elementos\n",
        "eliminado = persona.pop(\"ciudad\")\n",
        "print(\"Después de pop('ciudad'):\", persona, \"Eliminado:\", eliminado)\n",
        "\n",
        "ultimo = persona.popitem()\n",
        "print(\"Después de popitem():\", persona, \"Último eliminado:\", ultimo)\n",
        "\n",
        "# Ejemplo 6: Métodos keys(), values() e items()\n",
        "persona = {\"nombre\": \"Ana\", \"edad\": 26, \"profesion\": \"Ingeniera\"}\n",
        "print(\"\\nClaves con keys():\", persona.keys())\n",
        "print(\"Valores con values():\", persona.values())\n",
        "print(\"Pares con items():\", persona.items())\n",
        "\n",
        "# Ejemplo 7: Actualizar con update()\n",
        "persona.update({\"edad\": 27, \"ciudad\": \"Medellín\"})\n",
        "print(\"Después de update({'edad': 27, 'ciudad': 'Medellín'}):\", persona)\n",
        "\n",
        "# Ejemplo 8: Recorrer un diccionario\n",
        "print(\"\\nRecorrer solo claves:\")\n",
        "for clave in persona.keys():\n",
        "    print(clave)"
      ]
    },
    {
      "cell_type": "code",
      "execution_count": 29,
      "id": "b58b0720",
      "metadata": {},
      "outputs": [
        {
          "name": "stdout",
          "output_type": "stream",
          "text": [
            "Recorrer solo valores:\n",
            "Ana\n",
            "27\n",
            "Ingeniera\n",
            "Medellín\n",
            "Recorrer clave y valor con items():\n",
            "nombre -> Ana\n",
            "edad -> 27\n",
            "profesion -> Ingeniera\n",
            "ciudad -> Medellín\n",
            "\n",
            "¿'nombre' está en persona? True\n",
            "¿'altura' no está en persona? True\n",
            "\n",
            "Después de clear(): {}\n"
          ]
        }
      ],
      "source": [
        "print(\"Recorrer solo valores:\")\n",
        "for valor in persona.values():\n",
        "    print(valor)\n",
        "\n",
        "print(\"Recorrer clave y valor con items():\")\n",
        "for clave, valor in persona.items():\n",
        "    print(clave, \"->\", valor)\n",
        "\n",
        "# Ejemplo 9: Verificar pertenencia\n",
        "print(\"\\n¿'nombre' está en persona?\", \"nombre\" in persona)\n",
        "print(\"¿'altura' no está en persona?\", \"altura\" not in persona)\n",
        "\n",
        "# Ejemplo 10: Vaciar diccionario\n",
        "persona.clear()\n",
        "print(\"\\nDespués de clear():\", persona)"
      ]
    },
    {
      "cell_type": "markdown",
      "metadata": {},
      "source": [
        "## 7. Ejercicios prácticos\n",
        "### Ejercicio 1: ¿Cuántos años tienes?"
      ]
    },
    {
      "cell_type": "code",
      "execution_count": 30,
      "id": "8241b89e",
      "metadata": {},
      "outputs": [
        {
          "name": "stdout",
          "output_type": "stream",
          "text": [
            "Hola Alex, tienes 27 años. ¿Mayor de edad?: True\n"
          ]
        }
      ],
      "source": [
        "# Importamos la librería datetime para trabajar con fechas\n",
        "from datetime import datetime\n",
        "\n",
        "# Pedimos al usuario que escriba su nombre\n",
        "nombre = input(\"¿Cuál es tu nombre? \")\n",
        "\n",
        "# Pedimos el año de nacimiento y lo convertimos a número entero (int)\n",
        "nacimiento = int(input(\"¿En qué año naciste? \"))\n",
        "\n",
        "# Obtenemos el año actual usando datetime.now().year\n",
        "anio_actual = datetime.now().year\n",
        "\n",
        "# Calculamos la edad restando el año de nacimiento al año actual\n",
        "edad = anio_actual - nacimiento\n",
        "\n",
        "# Verificamos si la persona es mayor de edad (18 años o más)\n",
        "mayor = edad >= 18   # Esto da un valor True o False\n",
        "\n",
        "# Mostramos el resultado en pantalla con un mensaje formateado\n",
        "print(f\"Hola {nombre}, tienes {edad} años. ¿Mayor de edad?: {mayor}\")\n"
      ]
    },
    {
      "cell_type": "markdown",
      "id": "9e9137b0",
      "metadata": {},
      "source": [
        "### Ejercicio 2: Lista de compras\n",
        "Registrar productos y calcular el total."
      ]
    },
    {
      "cell_type": "code",
      "execution_count": 31,
      "id": "d2b01778",
      "metadata": {},
      "outputs": [
        {
          "name": "stdout",
          "output_type": "stream",
          "text": [
            "Lista de compras: {'Cereal': 1500.0, 'Camiseta': 500.0, 'Pantalon': 1500.0}\n",
            "Total: 3500.0\n",
            "Producto más caro: Cereal\n"
          ]
        }
      ],
      "source": [
        "# Creamos un diccionario vacío para guardar los productos y sus precios\n",
        "productos = {}\n",
        "\n",
        "# Pedimos al usuario 3 productos con su precio\n",
        "for i in range(3):\n",
        "    nombre = input(f\"Producto {i+1}: \")   # Nombre del producto\n",
        "    precio = float(input(\"Precio: \"))     # Convertimos a número decimal con float\n",
        "    productos[nombre] = precio            # Guardamos en el diccionario\n",
        "\n",
        "# Calculamos el total sumando los precios con sum() sobre los valores del diccionario\n",
        "total = sum(productos.values())\n",
        "\n",
        "# Obtenemos el producto más caro usando max() con key=productos.get\n",
        "mas_caro = max(productos, key=productos.get)\n",
        "\n",
        "# Mostramos resultados\n",
        "print(\"Lista de compras:\", productos)\n",
        "print(\"Total:\", total)\n",
        "print(\"Producto más caro:\", mas_caro)\n"
      ]
    }
  ],
  "metadata": {
    "kernelspec": {
      "display_name": ".venv",
      "language": "python",
      "name": "python3"
    },
    "language_info": {
      "codemirror_mode": {
        "name": "ipython",
        "version": 3
      },
      "file_extension": ".py",
      "mimetype": "text/x-python",
      "name": "python",
      "nbconvert_exporter": "python",
      "pygments_lexer": "ipython3",
      "version": "3.13.3"
    }
  },
  "nbformat": 4,
  "nbformat_minor": 5
}
