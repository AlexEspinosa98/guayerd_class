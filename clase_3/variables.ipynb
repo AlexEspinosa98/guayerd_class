{
 "cells": [
  {
   "cell_type": "markdown",
   "id": "727c0d66",
   "metadata": {},
   "source": [
    "# Primer variables"
   ]
  },
  {
   "cell_type": "code",
   "execution_count": 5,
   "id": "87787c73",
   "metadata": {},
   "outputs": [],
   "source": [
    "contador = 5\n",
    "frases = \"222aas\"\n",
    "verificador = True\n",
    "pi_number = 3.14 #Snake case\n"
   ]
  },
  {
   "cell_type": "code",
   "execution_count": 8,
   "id": "ef120e8f",
   "metadata": {},
   "outputs": [
    {
     "name": "stdout",
     "output_type": "stream",
     "text": [
      "C = 2\n",
      "c = 1\n"
     ]
    }
   ],
   "source": [
    "c2 = 4\n",
    "Casa = 2\n",
    "casa = 1\n",
    "print(\"C =\", Casa)\n",
    "print(\"c =\", casa)"
   ]
  },
  {
   "cell_type": "code",
   "execution_count": 19,
   "id": "b73726b1",
   "metadata": {},
   "outputs": [
    {
     "name": "stdout",
     "output_type": "stream",
     "text": [
      "<class 'int'>\n",
      "<class 'str'>\n",
      "<class 'float'>\n",
      "<class 'bool'>\n"
     ]
    }
   ],
   "source": [
    "# Tipos de variables\n",
    "# int, float, str, bool\n",
    "\n",
    "a = 5\n",
    "b = \"Hola\"\n",
    "c = 3.14\n",
    "d = True\n",
    "print(type(a))\n",
    "print(type(b))\n",
    "print(type(c))\n",
    "print(type(d))"
   ]
  },
  {
   "cell_type": "code",
   "execution_count": 34,
   "id": "da6b57fd",
   "metadata": {},
   "outputs": [
    {
     "name": "stdout",
     "output_type": "stream",
     "text": [
      "hola Estafani\n",
      "hola\n",
      "Texto hola\n",
      "hola Texto hola\n"
     ]
    }
   ],
   "source": [
    "# Salida de datos por consola\n",
    "print(\"hola Estafani\")\n",
    "variable = \"hola\"\n",
    "print(variable)\n",
    "\n",
    "print(\"Texto\", variable)\n",
    "print(variable, \"Texto\", variable)"
   ]
  },
  {
   "cell_type": "code",
   "execution_count": 38,
   "id": "c534ec3b",
   "metadata": {},
   "outputs": [
    {
     "name": "stdout",
     "output_type": "stream",
     "text": [
      "tipo al comienzo\n",
      "<class 'str'>\n",
      "tipo al tranformar\n",
      "<class 'int'>\n",
      "4\n",
      "9\n",
      "<class 'str'>\n",
      "15\n",
      "Operacion entre int y float\n",
      "5.5\n"
     ]
    }
   ],
   "source": [
    "# conversión de tipos\n",
    "\n",
    "a = \"4\" # str to int\n",
    "print(\"tipo al comienzo\")\n",
    "print(type(a))\n",
    "print(\"tipo al tranformar\")\n",
    "a_tranformada = int(a)\n",
    "print(type(a_tranformada))\n",
    "print(a_tranformada)\n",
    "\n",
    "b = 5\n",
    "\n",
    "c = int(a) + b\n",
    "print(c)\n",
    "\n",
    "# transformadas de int a str\n",
    "d = 15\n",
    "d_transformada = str(d)\n",
    "print(type(d_transformada))\n",
    "print(d_transformada)\n",
    "\n",
    "# conversiones automatica\n",
    "a = 2 # int\n",
    "b = 3.5 # float\n",
    "c = a + b\n",
    "print(\"Operacion entre int y float\")\n",
    "print(c)\n"
   ]
  },
  {
   "cell_type": "markdown",
   "id": "c4990fd1",
   "metadata": {},
   "source": [
    "## Operadores"
   ]
  },
  {
   "cell_type": "code",
   "execution_count": 39,
   "id": "59c0dba1",
   "metadata": {},
   "outputs": [
    {
     "name": "stdout",
     "output_type": "stream",
     "text": [
      "13\n",
      "7\n",
      "30\n",
      "3.3333333333333335\n",
      "3\n",
      "1\n",
      "1000\n"
     ]
    }
   ],
   "source": [
    "# Operador aritméticos\n",
    "a = 10\n",
    "b = 3\n",
    "print(a + b)   # 13 (suma)\n",
    "print(a - b)   # 7  (resta)\n",
    "print(a * b)   # 30 (multiplicación)\n",
    "print(a / b)   # 3.333... (división real)\n",
    "print(a // b)  # 3 (división entera)\n",
    "print(a % b)   # 1 (módulo: residuo)\n",
    "print(a ** b)  # 1000 (potencia)"
   ]
  },
  {
   "cell_type": "code",
   "execution_count": 41,
   "id": "00900e1a",
   "metadata": {},
   "outputs": [
    {
     "name": "stdout",
     "output_type": "stream",
     "text": [
      "False\n",
      "True\n",
      "True\n",
      "True\n",
      "False\n",
      "False\n"
     ]
    }
   ],
   "source": [
    "# comparaciones \n",
    "x = 5\n",
    "y = 8\n",
    "print(x == y)   # False (igualdad)\n",
    "print(x != y)   # True  (diferente)\n",
    "print(x < y)    # True\n",
    "print(x <= y)   # True\n",
    "print(x > y)    # False\n",
    "print(x >= y)   # False"
   ]
  },
  {
   "cell_type": "code",
   "execution_count": 44,
   "id": "3f0568d1",
   "metadata": {},
   "outputs": [
    {
     "name": "stdout",
     "output_type": "stream",
     "text": [
      "True\n",
      "False\n",
      "True\n",
      "False\n",
      "True\n"
     ]
    }
   ],
   "source": [
    "# Logico\n",
    "edad = 20\n",
    "tiene_permiso = True\n",
    "no_tiene_permiso = False\n",
    "\n",
    "print(edad >= 18 and tiene_permiso)  # True (las 2 condiciones)\n",
    "print(edad >= 18 and no_tiene_permiso)  # False (una condición es falsa)\n",
    "print(edad < 18 or tiene_permiso)    # True (al menos 1 condición)\n",
    "print(not tiene_permiso)             # False (negación)\n",
    "print(not no_tiene_permiso)\n"
   ]
  },
  {
   "cell_type": "code",
   "execution_count": 46,
   "id": "d67d90c1",
   "metadata": {},
   "outputs": [
    {
     "name": "stdout",
     "output_type": "stream",
     "text": [
      "15\n",
      "12\n",
      "24\n",
      "6.0\n"
     ]
    }
   ],
   "source": [
    "# Operadores de asignación compuesta\n",
    "x = 10\n",
    "x += 5   # x = x + 5 → 15\n",
    "print(x)\n",
    "x -= 3   # x = x - 3 → 12\n",
    "print(x)\n",
    "x *= 2   # x = x * 2 → 24\n",
    "print(x)\n",
    "x /= 4   # x = x / 4 → 6.0\n",
    "\n",
    "print(x)"
   ]
  },
  {
   "cell_type": "code",
   "execution_count": 49,
   "id": "58ac7a57",
   "metadata": {},
   "outputs": [
    {
     "name": "stdout",
     "output_type": "stream",
     "text": [
      "True\n",
      "True\n",
      "False\n"
     ]
    }
   ],
   "source": [
    "#pertenencia\n",
    "frutas = [\"manzana\", \"pera\", \"uva\"]\n",
    "\n",
    "print(\"pera\" in frutas)     # True\n",
    "print(\"carro\" not in frutas)  # True\n",
    "print(\"naranja\" in frutas)  # False"
   ]
  },
  {
   "cell_type": "markdown",
   "id": "8dc99aae",
   "metadata": {},
   "source": [
    "# Texto y formato"
   ]
  },
  {
   "cell_type": "code",
   "execution_count": 51,
   "id": "88a2f103",
   "metadata": {},
   "outputs": [
    {
     "name": "stdout",
     "output_type": "stream",
     "text": [
      "Py\n",
      "thon\n",
      "Pyth\n",
      "hon\n"
     ]
    }
   ],
   "source": [
    "texto = \"Python\"\n",
    "print(texto[0:2])   # Py\n",
    "print(texto[2:])    # thon\n",
    "print(texto[:4])    # Pyth\n",
    "print(texto[-3:])   # hon (últimos 3 caracteres)\n"
   ]
  },
  {
   "cell_type": "code",
   "execution_count": 57,
   "id": "33ebabc1",
   "metadata": {},
   "outputs": [
    {
     "name": "stdout",
     "output_type": "stream",
     "text": [
      "  hola mundo  \n",
      "  HOLA MUNDO  \n",
      "Hola Mundo\n",
      "  Hola Guayerd  \n"
     ]
    }
   ],
   "source": [
    "cadena = \"  Hola Mundo  \"\n",
    "\n",
    "print(cadena.lower())        # \"  hola mundo  \" (minúsculas)\n",
    "print(cadena.upper())        # \"  HOLA MUNDO  \" (mayúsculas)\n",
    "print(cadena.strip())        # \"Hola Mundo\" (quita espacios extremos)\n",
    "print(cadena.replace(\"Mundo\", \"Guayerd\"))  # \"  Hola Python  \"\n"
   ]
  },
  {
   "cell_type": "code",
   "execution_count": 59,
   "id": "55985434",
   "metadata": {},
   "outputs": [
    {
     "name": "stdout",
     "output_type": "stream",
     "text": [
      "Primera línea\n",
      "Segunda línea\n",
      "Columna1\tColumna2\n",
      "hola   Hola Mundo  \n"
     ]
    }
   ],
   "source": [
    "# caracteres especiales\n",
    "print(\"Primera línea\\nSegunda línea\")  \n",
    "# Salto de línea\n",
    "\n",
    "print(\"Columna1\\tColumna2\")  \n",
    "# Tabulación\n",
    "print(f\"hola {cadena}\")"
   ]
  },
  {
   "cell_type": "code",
   "execution_count": 62,
   "id": "7e3b77f6",
   "metadata": {},
   "outputs": [
    {
     "name": "stdout",
     "output_type": "stream",
     "text": [
      "estoy ingresando data en la terminal\n"
     ]
    }
   ],
   "source": [
    "# input y output\n",
    "ingreso = input(\"Escriba l que quiera\")\n",
    "print(ingreso)"
   ]
  },
  {
   "cell_type": "code",
   "execution_count": 68,
   "id": "fd8d6a03",
   "metadata": {},
   "outputs": [
    {
     "name": "stdout",
     "output_type": "stream",
     "text": [
      "[2, 3, 4, 5]\n",
      "[0, 1, 2, 3]\n",
      "[5, 6, 7, 8, 9]\n",
      "hola\n",
      "mundo\n",
      "python\n"
     ]
    }
   ],
   "source": [
    "# listas \n",
    "numeros = [0, 1, 2, 3, 4, 5, 6, 7, 8, 9]\n",
    "list_letras = [\"a\", \"b\", \"c\", \"d\"]\n",
    "list_frases = [\"hola\", \"mundo\", \"python\"]\n",
    "\n",
    "print(numeros[2:6])      # [2, 3, 4, 5]  (del índice 2 al 5)\n",
    "print(numeros[:4])       # [0, 1, 2, 3]  (del inicio al 3)\n",
    "print(numeros[5:])       # [5, 6, 7, 8, 9]  (del índice 5 hasta el final)\n",
    "\n",
    "print(list_frases[0])\n",
    "print(list_frases[1])\n",
    "print(list_frases[2])"
   ]
  },
  {
   "cell_type": "code",
   "execution_count": 69,
   "id": "2d269f7c",
   "metadata": {},
   "outputs": [
    {
     "name": "stdout",
     "output_type": "stream",
     "text": [
      "('rojo', 'verde', 'azul')\n",
      "<class 'tuple'>\n",
      "('amarillo',)\n"
     ]
    }
   ],
   "source": [
    "# Con varios valores\n",
    "colores = (\"rojo\", \"verde\", \"azul\")\n",
    "print(colores)          # ('rojo', 'verde', 'azul')\n",
    "print(type(colores))    # <class 'tuple'>\n",
    "\n",
    "# Con un solo valor (necesita la coma final)\n",
    "unico = (\"amarillo\",)\n",
    "print(unico)            # ('amarillo',)\n"
   ]
  },
  {
   "cell_type": "code",
   "execution_count": 76,
   "id": "24a90808",
   "metadata": {},
   "outputs": [
    {
     "name": "stdout",
     "output_type": "stream",
     "text": [
      "{'pera', 'naranja', 'manzana'}\n",
      "{'pera', 'naranja', 'manzana'}\n",
      "<class 'set'>\n",
      "{'a', 'o', 'i', 'u', 'e'}\n"
     ]
    }
   ],
   "source": [
    "# Sets o conjuntos\n",
    "# Con llaves {}\n",
    "frutas = {\"manzana\", \"pera\", \"naranja\", \"manzana\",\"manzana\", \"manzana\" }\n",
    "print(frutas)\n",
    "print(frutas)          # {'pera', 'manzana', 'naranja'}  (no hay duplicados)\n",
    "print(type(frutas))    # <class 'set'>\n",
    "\n",
    "# Con la función set()\n",
    "vocales = set([\"a\", \"e\", \"i\", \"o\", \"u\"])\n",
    "print(vocales)         # {'a', 'e', 'i', 'o', 'u'}\n"
   ]
  },
  {
   "cell_type": "code",
   "execution_count": 79,
   "id": "01a37bbf",
   "metadata": {},
   "outputs": [
    {
     "name": "stdout",
     "output_type": "stream",
     "text": [
      "Ana\n",
      "30\n",
      "1.65\n"
     ]
    }
   ],
   "source": [
    "# Diccionarios \n",
    "persona = {\"nombre\": \"Ana\", \"edad\": 30, \"altura\": 1.65}   # dict\n",
    "print(persona[\"nombre\"])\n",
    "print(persona[\"edad\"])\n",
    "print(persona[\"altura\"])"
   ]
  },
  {
   "cell_type": "code",
   "execution_count": null,
   "id": "acdb8b4f",
   "metadata": {},
   "outputs": [],
   "source": []
  }
 ],
 "metadata": {
  "kernelspec": {
   "display_name": ".venv",
   "language": "python",
   "name": "python3"
  },
  "language_info": {
   "codemirror_mode": {
    "name": "ipython",
    "version": 3
   },
   "file_extension": ".py",
   "mimetype": "text/x-python",
   "name": "python",
   "nbconvert_exporter": "python",
   "pygments_lexer": "ipython3",
   "version": "3.13.3"
  }
 },
 "nbformat": 4,
 "nbformat_minor": 5
}
